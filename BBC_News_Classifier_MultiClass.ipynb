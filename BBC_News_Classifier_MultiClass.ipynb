{
  "nbformat": 4,
  "nbformat_minor": 0,
  "metadata": {
    "colab": {
      "provenance": [],
      "gpuType": "T4"
    },
    "kernelspec": {
      "name": "python3",
      "display_name": "Python 3"
    },
    "language_info": {
      "name": "python"
    },
    "accelerator": "GPU"
  },
  "cells": [
    {
      "cell_type": "markdown",
      "source": [
        "#1. Data Preparation"
      ],
      "metadata": {
        "id": "hfIFWqquTZqd"
      }
    },
    {
      "cell_type": "code",
      "execution_count": 1,
      "metadata": {
        "colab": {
          "base_uri": "https://localhost:8080/"
        },
        "id": "QqfPJQWxTBbh",
        "outputId": "eec7e878-2973-4a85-9ec4-0e5119c6f040"
      },
      "outputs": [
        {
          "output_type": "stream",
          "name": "stdout",
          "text": [
            "Collecting opendatasets\n",
            "  Downloading opendatasets-0.1.22-py3-none-any.whl (15 kB)\n",
            "Requirement already satisfied: tqdm in /usr/local/lib/python3.10/dist-packages (from opendatasets) (4.65.0)\n",
            "Requirement already satisfied: kaggle in /usr/local/lib/python3.10/dist-packages (from opendatasets) (1.5.15)\n",
            "Requirement already satisfied: click in /usr/local/lib/python3.10/dist-packages (from opendatasets) (8.1.4)\n",
            "Requirement already satisfied: six>=1.10 in /usr/local/lib/python3.10/dist-packages (from kaggle->opendatasets) (1.16.0)\n",
            "Requirement already satisfied: certifi in /usr/local/lib/python3.10/dist-packages (from kaggle->opendatasets) (2023.5.7)\n",
            "Requirement already satisfied: python-dateutil in /usr/local/lib/python3.10/dist-packages (from kaggle->opendatasets) (2.8.2)\n",
            "Requirement already satisfied: requests in /usr/local/lib/python3.10/dist-packages (from kaggle->opendatasets) (2.27.1)\n",
            "Requirement already satisfied: python-slugify in /usr/local/lib/python3.10/dist-packages (from kaggle->opendatasets) (8.0.1)\n",
            "Requirement already satisfied: urllib3 in /usr/local/lib/python3.10/dist-packages (from kaggle->opendatasets) (1.26.16)\n",
            "Requirement already satisfied: bleach in /usr/local/lib/python3.10/dist-packages (from kaggle->opendatasets) (6.0.0)\n",
            "Requirement already satisfied: webencodings in /usr/local/lib/python3.10/dist-packages (from bleach->kaggle->opendatasets) (0.5.1)\n",
            "Requirement already satisfied: text-unidecode>=1.3 in /usr/local/lib/python3.10/dist-packages (from python-slugify->kaggle->opendatasets) (1.3)\n",
            "Requirement already satisfied: charset-normalizer~=2.0.0 in /usr/local/lib/python3.10/dist-packages (from requests->kaggle->opendatasets) (2.0.12)\n",
            "Requirement already satisfied: idna<4,>=2.5 in /usr/local/lib/python3.10/dist-packages (from requests->kaggle->opendatasets) (3.4)\n",
            "Installing collected packages: opendatasets\n",
            "Successfully installed opendatasets-0.1.22\n"
          ]
        }
      ],
      "source": [
        "!pip install opendatasets"
      ]
    },
    {
      "cell_type": "code",
      "source": [
        "import opendatasets as od"
      ],
      "metadata": {
        "id": "bCSxrxiuTIQN"
      },
      "execution_count": 2,
      "outputs": []
    },
    {
      "cell_type": "code",
      "source": [
        "od.download('https://www.kaggle.com/datasets/balatmak/newsgroup20bbcnews')"
      ],
      "metadata": {
        "colab": {
          "base_uri": "https://localhost:8080/"
        },
        "id": "xMtk-AniTJ8K",
        "outputId": "392da930-5fac-4375-b305-d91c16b3d3db"
      },
      "execution_count": 3,
      "outputs": [
        {
          "output_type": "stream",
          "name": "stdout",
          "text": [
            "Please provide your Kaggle credentials to download this dataset. Learn more: http://bit.ly/kaggle-creds\n",
            "Your Kaggle username: aakkashsuresh\n",
            "Your Kaggle Key: ··········\n",
            "Downloading newsgroup20bbcnews.zip to ./newsgroup20bbcnews\n"
          ]
        },
        {
          "output_type": "stream",
          "name": "stderr",
          "text": [
            "100%|██████████| 15.1M/15.1M [00:00<00:00, 88.9MB/s]"
          ]
        },
        {
          "output_type": "stream",
          "name": "stdout",
          "text": [
            "\n"
          ]
        },
        {
          "output_type": "stream",
          "name": "stderr",
          "text": [
            "\n"
          ]
        }
      ]
    },
    {
      "cell_type": "code",
      "source": [
        "import pandas as pd\n",
        "df = pd.read_csv('/content/newsgroup20bbcnews/bbc-text.csv')"
      ],
      "metadata": {
        "id": "AYUMWMo_TLJ3"
      },
      "execution_count": 4,
      "outputs": []
    },
    {
      "cell_type": "code",
      "source": [
        "df.head()"
      ],
      "metadata": {
        "colab": {
          "base_uri": "https://localhost:8080/",
          "height": 206
        },
        "id": "qEOhg15gTU7V",
        "outputId": "dd61726e-01a3-42bc-bbe4-7814ab0c77dd"
      },
      "execution_count": 5,
      "outputs": [
        {
          "output_type": "execute_result",
          "data": {
            "text/plain": [
              "        category                                               text\n",
              "0           tech  tv future in the hands of viewers with home th...\n",
              "1       business  worldcom boss  left books alone  former worldc...\n",
              "2          sport  tigers wary of farrell  gamble  leicester say ...\n",
              "3          sport  yeading face newcastle in fa cup premiership s...\n",
              "4  entertainment  ocean s twelve raids box office ocean s twelve..."
            ],
            "text/html": [
              "\n",
              "\n",
              "  <div id=\"df-c7c07d40-e6a6-4dac-be0e-686a696837b7\">\n",
              "    <div class=\"colab-df-container\">\n",
              "      <div>\n",
              "<style scoped>\n",
              "    .dataframe tbody tr th:only-of-type {\n",
              "        vertical-align: middle;\n",
              "    }\n",
              "\n",
              "    .dataframe tbody tr th {\n",
              "        vertical-align: top;\n",
              "    }\n",
              "\n",
              "    .dataframe thead th {\n",
              "        text-align: right;\n",
              "    }\n",
              "</style>\n",
              "<table border=\"1\" class=\"dataframe\">\n",
              "  <thead>\n",
              "    <tr style=\"text-align: right;\">\n",
              "      <th></th>\n",
              "      <th>category</th>\n",
              "      <th>text</th>\n",
              "    </tr>\n",
              "  </thead>\n",
              "  <tbody>\n",
              "    <tr>\n",
              "      <th>0</th>\n",
              "      <td>tech</td>\n",
              "      <td>tv future in the hands of viewers with home th...</td>\n",
              "    </tr>\n",
              "    <tr>\n",
              "      <th>1</th>\n",
              "      <td>business</td>\n",
              "      <td>worldcom boss  left books alone  former worldc...</td>\n",
              "    </tr>\n",
              "    <tr>\n",
              "      <th>2</th>\n",
              "      <td>sport</td>\n",
              "      <td>tigers wary of farrell  gamble  leicester say ...</td>\n",
              "    </tr>\n",
              "    <tr>\n",
              "      <th>3</th>\n",
              "      <td>sport</td>\n",
              "      <td>yeading face newcastle in fa cup premiership s...</td>\n",
              "    </tr>\n",
              "    <tr>\n",
              "      <th>4</th>\n",
              "      <td>entertainment</td>\n",
              "      <td>ocean s twelve raids box office ocean s twelve...</td>\n",
              "    </tr>\n",
              "  </tbody>\n",
              "</table>\n",
              "</div>\n",
              "      <button class=\"colab-df-convert\" onclick=\"convertToInteractive('df-c7c07d40-e6a6-4dac-be0e-686a696837b7')\"\n",
              "              title=\"Convert this dataframe to an interactive table.\"\n",
              "              style=\"display:none;\">\n",
              "\n",
              "  <svg xmlns=\"http://www.w3.org/2000/svg\" height=\"24px\"viewBox=\"0 0 24 24\"\n",
              "       width=\"24px\">\n",
              "    <path d=\"M0 0h24v24H0V0z\" fill=\"none\"/>\n",
              "    <path d=\"M18.56 5.44l.94 2.06.94-2.06 2.06-.94-2.06-.94-.94-2.06-.94 2.06-2.06.94zm-11 1L8.5 8.5l.94-2.06 2.06-.94-2.06-.94L8.5 2.5l-.94 2.06-2.06.94zm10 10l.94 2.06.94-2.06 2.06-.94-2.06-.94-.94-2.06-.94 2.06-2.06.94z\"/><path d=\"M17.41 7.96l-1.37-1.37c-.4-.4-.92-.59-1.43-.59-.52 0-1.04.2-1.43.59L10.3 9.45l-7.72 7.72c-.78.78-.78 2.05 0 2.83L4 21.41c.39.39.9.59 1.41.59.51 0 1.02-.2 1.41-.59l7.78-7.78 2.81-2.81c.8-.78.8-2.07 0-2.86zM5.41 20L4 18.59l7.72-7.72 1.47 1.35L5.41 20z\"/>\n",
              "  </svg>\n",
              "      </button>\n",
              "\n",
              "\n",
              "\n",
              "    <div id=\"df-436868a1-9b22-40db-8a3a-7b03331926e4\">\n",
              "      <button class=\"colab-df-quickchart\" onclick=\"quickchart('df-436868a1-9b22-40db-8a3a-7b03331926e4')\"\n",
              "              title=\"Suggest charts.\"\n",
              "              style=\"display:none;\">\n",
              "\n",
              "<svg xmlns=\"http://www.w3.org/2000/svg\" height=\"24px\"viewBox=\"0 0 24 24\"\n",
              "     width=\"24px\">\n",
              "    <g>\n",
              "        <path d=\"M19 3H5c-1.1 0-2 .9-2 2v14c0 1.1.9 2 2 2h14c1.1 0 2-.9 2-2V5c0-1.1-.9-2-2-2zM9 17H7v-7h2v7zm4 0h-2V7h2v10zm4 0h-2v-4h2v4z\"/>\n",
              "    </g>\n",
              "</svg>\n",
              "      </button>\n",
              "    </div>\n",
              "\n",
              "<style>\n",
              "  .colab-df-quickchart {\n",
              "    background-color: #E8F0FE;\n",
              "    border: none;\n",
              "    border-radius: 50%;\n",
              "    cursor: pointer;\n",
              "    display: none;\n",
              "    fill: #1967D2;\n",
              "    height: 32px;\n",
              "    padding: 0 0 0 0;\n",
              "    width: 32px;\n",
              "  }\n",
              "\n",
              "  .colab-df-quickchart:hover {\n",
              "    background-color: #E2EBFA;\n",
              "    box-shadow: 0px 1px 2px rgba(60, 64, 67, 0.3), 0px 1px 3px 1px rgba(60, 64, 67, 0.15);\n",
              "    fill: #174EA6;\n",
              "  }\n",
              "\n",
              "  [theme=dark] .colab-df-quickchart {\n",
              "    background-color: #3B4455;\n",
              "    fill: #D2E3FC;\n",
              "  }\n",
              "\n",
              "  [theme=dark] .colab-df-quickchart:hover {\n",
              "    background-color: #434B5C;\n",
              "    box-shadow: 0px 1px 3px 1px rgba(0, 0, 0, 0.15);\n",
              "    filter: drop-shadow(0px 1px 2px rgba(0, 0, 0, 0.3));\n",
              "    fill: #FFFFFF;\n",
              "  }\n",
              "</style>\n",
              "\n",
              "    <script>\n",
              "      async function quickchart(key) {\n",
              "        const containerElement = document.querySelector('#' + key);\n",
              "        const charts = await google.colab.kernel.invokeFunction(\n",
              "            'suggestCharts', [key], {});\n",
              "      }\n",
              "    </script>\n",
              "\n",
              "      <script>\n",
              "\n",
              "function displayQuickchartButton(domScope) {\n",
              "  let quickchartButtonEl =\n",
              "    domScope.querySelector('#df-436868a1-9b22-40db-8a3a-7b03331926e4 button.colab-df-quickchart');\n",
              "  quickchartButtonEl.style.display =\n",
              "    google.colab.kernel.accessAllowed ? 'block' : 'none';\n",
              "}\n",
              "\n",
              "        displayQuickchartButton(document);\n",
              "      </script>\n",
              "      <style>\n",
              "    .colab-df-container {\n",
              "      display:flex;\n",
              "      flex-wrap:wrap;\n",
              "      gap: 12px;\n",
              "    }\n",
              "\n",
              "    .colab-df-convert {\n",
              "      background-color: #E8F0FE;\n",
              "      border: none;\n",
              "      border-radius: 50%;\n",
              "      cursor: pointer;\n",
              "      display: none;\n",
              "      fill: #1967D2;\n",
              "      height: 32px;\n",
              "      padding: 0 0 0 0;\n",
              "      width: 32px;\n",
              "    }\n",
              "\n",
              "    .colab-df-convert:hover {\n",
              "      background-color: #E2EBFA;\n",
              "      box-shadow: 0px 1px 2px rgba(60, 64, 67, 0.3), 0px 1px 3px 1px rgba(60, 64, 67, 0.15);\n",
              "      fill: #174EA6;\n",
              "    }\n",
              "\n",
              "    [theme=dark] .colab-df-convert {\n",
              "      background-color: #3B4455;\n",
              "      fill: #D2E3FC;\n",
              "    }\n",
              "\n",
              "    [theme=dark] .colab-df-convert:hover {\n",
              "      background-color: #434B5C;\n",
              "      box-shadow: 0px 1px 3px 1px rgba(0, 0, 0, 0.15);\n",
              "      filter: drop-shadow(0px 1px 2px rgba(0, 0, 0, 0.3));\n",
              "      fill: #FFFFFF;\n",
              "    }\n",
              "  </style>\n",
              "\n",
              "      <script>\n",
              "        const buttonEl =\n",
              "          document.querySelector('#df-c7c07d40-e6a6-4dac-be0e-686a696837b7 button.colab-df-convert');\n",
              "        buttonEl.style.display =\n",
              "          google.colab.kernel.accessAllowed ? 'block' : 'none';\n",
              "\n",
              "        async function convertToInteractive(key) {\n",
              "          const element = document.querySelector('#df-c7c07d40-e6a6-4dac-be0e-686a696837b7');\n",
              "          const dataTable =\n",
              "            await google.colab.kernel.invokeFunction('convertToInteractive',\n",
              "                                                     [key], {});\n",
              "          if (!dataTable) return;\n",
              "\n",
              "          const docLinkHtml = 'Like what you see? Visit the ' +\n",
              "            '<a target=\"_blank\" href=https://colab.research.google.com/notebooks/data_table.ipynb>data table notebook</a>'\n",
              "            + ' to learn more about interactive tables.';\n",
              "          element.innerHTML = '';\n",
              "          dataTable['output_type'] = 'display_data';\n",
              "          await google.colab.output.renderOutput(dataTable, element);\n",
              "          const docLink = document.createElement('div');\n",
              "          docLink.innerHTML = docLinkHtml;\n",
              "          element.appendChild(docLink);\n",
              "        }\n",
              "      </script>\n",
              "    </div>\n",
              "  </div>\n"
            ]
          },
          "metadata": {},
          "execution_count": 5
        }
      ]
    },
    {
      "cell_type": "code",
      "source": [
        "df.describe()"
      ],
      "metadata": {
        "colab": {
          "base_uri": "https://localhost:8080/",
          "height": 175
        },
        "id": "oN9AsIrSTVi7",
        "outputId": "787b6a71-5272-419e-a2d0-4e0903708049"
      },
      "execution_count": 6,
      "outputs": [
        {
          "output_type": "execute_result",
          "data": {
            "text/plain": [
              "       category                                               text\n",
              "count      2225                                               2225\n",
              "unique        5                                               2126\n",
              "top       sport  kennedy questions trust of blair lib dem leade...\n",
              "freq        511                                                  2"
            ],
            "text/html": [
              "\n",
              "\n",
              "  <div id=\"df-8130299d-f6eb-466c-8505-82cde7c80c4d\">\n",
              "    <div class=\"colab-df-container\">\n",
              "      <div>\n",
              "<style scoped>\n",
              "    .dataframe tbody tr th:only-of-type {\n",
              "        vertical-align: middle;\n",
              "    }\n",
              "\n",
              "    .dataframe tbody tr th {\n",
              "        vertical-align: top;\n",
              "    }\n",
              "\n",
              "    .dataframe thead th {\n",
              "        text-align: right;\n",
              "    }\n",
              "</style>\n",
              "<table border=\"1\" class=\"dataframe\">\n",
              "  <thead>\n",
              "    <tr style=\"text-align: right;\">\n",
              "      <th></th>\n",
              "      <th>category</th>\n",
              "      <th>text</th>\n",
              "    </tr>\n",
              "  </thead>\n",
              "  <tbody>\n",
              "    <tr>\n",
              "      <th>count</th>\n",
              "      <td>2225</td>\n",
              "      <td>2225</td>\n",
              "    </tr>\n",
              "    <tr>\n",
              "      <th>unique</th>\n",
              "      <td>5</td>\n",
              "      <td>2126</td>\n",
              "    </tr>\n",
              "    <tr>\n",
              "      <th>top</th>\n",
              "      <td>sport</td>\n",
              "      <td>kennedy questions trust of blair lib dem leade...</td>\n",
              "    </tr>\n",
              "    <tr>\n",
              "      <th>freq</th>\n",
              "      <td>511</td>\n",
              "      <td>2</td>\n",
              "    </tr>\n",
              "  </tbody>\n",
              "</table>\n",
              "</div>\n",
              "      <button class=\"colab-df-convert\" onclick=\"convertToInteractive('df-8130299d-f6eb-466c-8505-82cde7c80c4d')\"\n",
              "              title=\"Convert this dataframe to an interactive table.\"\n",
              "              style=\"display:none;\">\n",
              "\n",
              "  <svg xmlns=\"http://www.w3.org/2000/svg\" height=\"24px\"viewBox=\"0 0 24 24\"\n",
              "       width=\"24px\">\n",
              "    <path d=\"M0 0h24v24H0V0z\" fill=\"none\"/>\n",
              "    <path d=\"M18.56 5.44l.94 2.06.94-2.06 2.06-.94-2.06-.94-.94-2.06-.94 2.06-2.06.94zm-11 1L8.5 8.5l.94-2.06 2.06-.94-2.06-.94L8.5 2.5l-.94 2.06-2.06.94zm10 10l.94 2.06.94-2.06 2.06-.94-2.06-.94-.94-2.06-.94 2.06-2.06.94z\"/><path d=\"M17.41 7.96l-1.37-1.37c-.4-.4-.92-.59-1.43-.59-.52 0-1.04.2-1.43.59L10.3 9.45l-7.72 7.72c-.78.78-.78 2.05 0 2.83L4 21.41c.39.39.9.59 1.41.59.51 0 1.02-.2 1.41-.59l7.78-7.78 2.81-2.81c.8-.78.8-2.07 0-2.86zM5.41 20L4 18.59l7.72-7.72 1.47 1.35L5.41 20z\"/>\n",
              "  </svg>\n",
              "      </button>\n",
              "\n",
              "\n",
              "\n",
              "    <div id=\"df-f2e67e7c-0a3f-476a-b6b7-88c6ee6a317c\">\n",
              "      <button class=\"colab-df-quickchart\" onclick=\"quickchart('df-f2e67e7c-0a3f-476a-b6b7-88c6ee6a317c')\"\n",
              "              title=\"Suggest charts.\"\n",
              "              style=\"display:none;\">\n",
              "\n",
              "<svg xmlns=\"http://www.w3.org/2000/svg\" height=\"24px\"viewBox=\"0 0 24 24\"\n",
              "     width=\"24px\">\n",
              "    <g>\n",
              "        <path d=\"M19 3H5c-1.1 0-2 .9-2 2v14c0 1.1.9 2 2 2h14c1.1 0 2-.9 2-2V5c0-1.1-.9-2-2-2zM9 17H7v-7h2v7zm4 0h-2V7h2v10zm4 0h-2v-4h2v4z\"/>\n",
              "    </g>\n",
              "</svg>\n",
              "      </button>\n",
              "    </div>\n",
              "\n",
              "<style>\n",
              "  .colab-df-quickchart {\n",
              "    background-color: #E8F0FE;\n",
              "    border: none;\n",
              "    border-radius: 50%;\n",
              "    cursor: pointer;\n",
              "    display: none;\n",
              "    fill: #1967D2;\n",
              "    height: 32px;\n",
              "    padding: 0 0 0 0;\n",
              "    width: 32px;\n",
              "  }\n",
              "\n",
              "  .colab-df-quickchart:hover {\n",
              "    background-color: #E2EBFA;\n",
              "    box-shadow: 0px 1px 2px rgba(60, 64, 67, 0.3), 0px 1px 3px 1px rgba(60, 64, 67, 0.15);\n",
              "    fill: #174EA6;\n",
              "  }\n",
              "\n",
              "  [theme=dark] .colab-df-quickchart {\n",
              "    background-color: #3B4455;\n",
              "    fill: #D2E3FC;\n",
              "  }\n",
              "\n",
              "  [theme=dark] .colab-df-quickchart:hover {\n",
              "    background-color: #434B5C;\n",
              "    box-shadow: 0px 1px 3px 1px rgba(0, 0, 0, 0.15);\n",
              "    filter: drop-shadow(0px 1px 2px rgba(0, 0, 0, 0.3));\n",
              "    fill: #FFFFFF;\n",
              "  }\n",
              "</style>\n",
              "\n",
              "    <script>\n",
              "      async function quickchart(key) {\n",
              "        const containerElement = document.querySelector('#' + key);\n",
              "        const charts = await google.colab.kernel.invokeFunction(\n",
              "            'suggestCharts', [key], {});\n",
              "      }\n",
              "    </script>\n",
              "\n",
              "      <script>\n",
              "\n",
              "function displayQuickchartButton(domScope) {\n",
              "  let quickchartButtonEl =\n",
              "    domScope.querySelector('#df-f2e67e7c-0a3f-476a-b6b7-88c6ee6a317c button.colab-df-quickchart');\n",
              "  quickchartButtonEl.style.display =\n",
              "    google.colab.kernel.accessAllowed ? 'block' : 'none';\n",
              "}\n",
              "\n",
              "        displayQuickchartButton(document);\n",
              "      </script>\n",
              "      <style>\n",
              "    .colab-df-container {\n",
              "      display:flex;\n",
              "      flex-wrap:wrap;\n",
              "      gap: 12px;\n",
              "    }\n",
              "\n",
              "    .colab-df-convert {\n",
              "      background-color: #E8F0FE;\n",
              "      border: none;\n",
              "      border-radius: 50%;\n",
              "      cursor: pointer;\n",
              "      display: none;\n",
              "      fill: #1967D2;\n",
              "      height: 32px;\n",
              "      padding: 0 0 0 0;\n",
              "      width: 32px;\n",
              "    }\n",
              "\n",
              "    .colab-df-convert:hover {\n",
              "      background-color: #E2EBFA;\n",
              "      box-shadow: 0px 1px 2px rgba(60, 64, 67, 0.3), 0px 1px 3px 1px rgba(60, 64, 67, 0.15);\n",
              "      fill: #174EA6;\n",
              "    }\n",
              "\n",
              "    [theme=dark] .colab-df-convert {\n",
              "      background-color: #3B4455;\n",
              "      fill: #D2E3FC;\n",
              "    }\n",
              "\n",
              "    [theme=dark] .colab-df-convert:hover {\n",
              "      background-color: #434B5C;\n",
              "      box-shadow: 0px 1px 3px 1px rgba(0, 0, 0, 0.15);\n",
              "      filter: drop-shadow(0px 1px 2px rgba(0, 0, 0, 0.3));\n",
              "      fill: #FFFFFF;\n",
              "    }\n",
              "  </style>\n",
              "\n",
              "      <script>\n",
              "        const buttonEl =\n",
              "          document.querySelector('#df-8130299d-f6eb-466c-8505-82cde7c80c4d button.colab-df-convert');\n",
              "        buttonEl.style.display =\n",
              "          google.colab.kernel.accessAllowed ? 'block' : 'none';\n",
              "\n",
              "        async function convertToInteractive(key) {\n",
              "          const element = document.querySelector('#df-8130299d-f6eb-466c-8505-82cde7c80c4d');\n",
              "          const dataTable =\n",
              "            await google.colab.kernel.invokeFunction('convertToInteractive',\n",
              "                                                     [key], {});\n",
              "          if (!dataTable) return;\n",
              "\n",
              "          const docLinkHtml = 'Like what you see? Visit the ' +\n",
              "            '<a target=\"_blank\" href=https://colab.research.google.com/notebooks/data_table.ipynb>data table notebook</a>'\n",
              "            + ' to learn more about interactive tables.';\n",
              "          element.innerHTML = '';\n",
              "          dataTable['output_type'] = 'display_data';\n",
              "          await google.colab.output.renderOutput(dataTable, element);\n",
              "          const docLink = document.createElement('div');\n",
              "          docLink.innerHTML = docLinkHtml;\n",
              "          element.appendChild(docLink);\n",
              "        }\n",
              "      </script>\n",
              "    </div>\n",
              "  </div>\n"
            ]
          },
          "metadata": {},
          "execution_count": 6
        }
      ]
    },
    {
      "cell_type": "code",
      "source": [
        "df.info()"
      ],
      "metadata": {
        "colab": {
          "base_uri": "https://localhost:8080/"
        },
        "id": "x7fYJEcQTeuM",
        "outputId": "af64c7b8-846b-4bf0-e9ce-dd0a4b0892b0"
      },
      "execution_count": 7,
      "outputs": [
        {
          "output_type": "stream",
          "name": "stdout",
          "text": [
            "<class 'pandas.core.frame.DataFrame'>\n",
            "RangeIndex: 2225 entries, 0 to 2224\n",
            "Data columns (total 2 columns):\n",
            " #   Column    Non-Null Count  Dtype \n",
            "---  ------    --------------  ----- \n",
            " 0   category  2225 non-null   object\n",
            " 1   text      2225 non-null   object\n",
            "dtypes: object(2)\n",
            "memory usage: 34.9+ KB\n"
          ]
        }
      ]
    },
    {
      "cell_type": "code",
      "source": [
        "df['category'].value_counts()"
      ],
      "metadata": {
        "colab": {
          "base_uri": "https://localhost:8080/"
        },
        "id": "ejVp7QDOTfqq",
        "outputId": "2b361da0-c6dc-4e11-9271-889f1ca336e0"
      },
      "execution_count": 8,
      "outputs": [
        {
          "output_type": "execute_result",
          "data": {
            "text/plain": [
              "sport            511\n",
              "business         510\n",
              "politics         417\n",
              "tech             401\n",
              "entertainment    386\n",
              "Name: category, dtype: int64"
            ]
          },
          "metadata": {},
          "execution_count": 8
        }
      ]
    },
    {
      "cell_type": "markdown",
      "source": [
        "There are 5 labels in the category feature whose count is approximately same"
      ],
      "metadata": {
        "id": "ZfHDjJdPTk0N"
      }
    },
    {
      "cell_type": "code",
      "source": [
        "import seaborn as sns\n",
        "sns.countplot(x='category',data=df)"
      ],
      "metadata": {
        "colab": {
          "base_uri": "https://localhost:8080/",
          "height": 466
        },
        "id": "yHrN8RlUTit-",
        "outputId": "af06869a-618f-476f-dabd-40d0a94ca384"
      },
      "execution_count": 9,
      "outputs": [
        {
          "output_type": "execute_result",
          "data": {
            "text/plain": [
              "<Axes: xlabel='category', ylabel='count'>"
            ]
          },
          "metadata": {},
          "execution_count": 9
        },
        {
          "output_type": "display_data",
          "data": {
            "text/plain": [
              "<Figure size 640x480 with 1 Axes>"
            ],
            "image/png": "[encoded data removed]"
          },
          "metadata": {}
        }
      ]
    },
    {
      "cell_type": "markdown",
      "source": [
        "# 2. Data Preprocessing"
      ],
      "metadata": {
        "id": "S_rZdP8tUCUh"
      }
    },
    {
      "cell_type": "code",
      "source": [
        "# Let's remove stopwords\n",
        "import nltk\n",
        "from nltk.stem import PorterStemmer\n",
        "from nltk.corpus import stopwords"
      ],
      "metadata": {
        "id": "Bibch6hkTr7U"
      },
      "execution_count": 10,
      "outputs": []
    },
    {
      "cell_type": "code",
      "source": [
        "nltk.download('stopwords')"
      ],
      "metadata": {
        "colab": {
          "base_uri": "https://localhost:8080/"
        },
        "id": "Z77KyM0wUGrj",
        "outputId": "d5ffab17-24a7-42fd-8ba0-43dea3de0f1a"
      },
      "execution_count": 11,
      "outputs": [
        {
          "output_type": "stream",
          "name": "stderr",
          "text": [
            "[nltk_data] Downloading package stopwords to /root/nltk_data...\n",
            "[nltk_data]   Unzipping corpora/stopwords.zip.\n"
          ]
        },
        {
          "output_type": "execute_result",
          "data": {
            "text/plain": [
              "True"
            ]
          },
          "metadata": {},
          "execution_count": 11
        }
      ]
    },
    {
      "cell_type": "code",
      "source": [
        "from nltk.stem.porter import PorterStemmer\n",
        "ps = PorterStemmer()"
      ],
      "metadata": {
        "id": "UOWhm_G3UHrl"
      },
      "execution_count": 12,
      "outputs": []
    },
    {
      "cell_type": "code",
      "source": [
        "text = df['text']\n",
        "category = df['category']"
      ],
      "metadata": {
        "id": "rXZ0f3jkUQXj"
      },
      "execution_count": 13,
      "outputs": []
    },
    {
      "cell_type": "code",
      "source": [
        "import re"
      ],
      "metadata": {
        "id": "uAyj9CyCUU8V"
      },
      "execution_count": 14,
      "outputs": []
    },
    {
      "cell_type": "code",
      "source": [
        "corpus = []\n",
        "for i in range(len(text)):\n",
        "    x = text[i]\n",
        "    temp = re.sub('[^a-zA-Z0-9]',' ',x)  # Removing Unnecessary words\n",
        "    temp = temp.lower()  # Converting them to lowercase\n",
        "    temp = temp.split()  # Splitting the words\n",
        "\n",
        "    # Appending words not found in stopwords\n",
        "    temp = [ps.stem(word) for word in temp if not word in stopwords.words('english')]\n",
        "    temp = ' '.join(temp)\n",
        "    corpus.append(temp)"
      ],
      "metadata": {
        "id": "8R3OYTn3UIb_"
      },
      "execution_count": 15,
      "outputs": []
    },
    {
      "cell_type": "code",
      "source": [
        "text[3]"
      ],
      "metadata": {
        "colab": {
          "base_uri": "https://localhost:8080/",
          "height": 140
        },
        "id": "L9yRhwJsUVX4",
        "outputId": "7c727cce-2f5b-4b5e-ffde-bf2b7435a547"
      },
      "execution_count": 16,
      "outputs": [
        {
          "output_type": "execute_result",
          "data": {
            "text/plain": [
              "'yeading face newcastle in fa cup premiership side newcastle united face a trip to ryman premier league leaders yeading in the fa cup third round.  the game - arguably the highlight of the draw - is a potential money-spinner for non-league yeading  who beat slough in the second round. conference side exeter city  who knocked out doncaster on saturday  will travel to old trafford to meet holders manchester united in january. arsenal were drawn at home to stoke and chelsea will play host to scunthorpe. the only other non-league side in the draw are hinckley united  who held brentford to a goalless draw on sunday. they will meet league one leaders luton if they win their replay against martin allen s team at griffin park.  a number of premiership teams face difficult away games against championship sides on the weekend of 8/9 january. third-placed everton visit plymouth  liverpool travel to burnley  crystal palace go to sunderland  fulham face carling cup semi-finalists watford  bolton meet ipswich  while aston villa were drawn against sheffield united. premiership strugglers norwich  blackburn  west brom are away at west ham  cardiff and preston north end respectively. southampton visit northampton  having already beaten the league two side in the carling cup earlier this season. middlesbrough were drawn away against either swindon or notts county  while spurs entertain brighton at white hart lane.  arsenal v stoke  swindon/notts co v middlesbrough  man utd v exeter  plymouth v everton  leicester v blackpool  derby v wigan  sunderland v crystal palace  wolves v millwall  yeading v newcastle  hull v colchester  tottenham v brighton  reading v stockport/swansea  birmingham v leeds  hartlepool v boston  milton keynes dons v peterborough  oldham v man city  chelsea v scunthorpe  cardiff v blackburn  charlton v rochdale  west ham v norwich  sheff utd v aston villa  preston v west brom  rotherham v yeovil  burnley v liverpool  bournemouth v chester  coventry v crewe  watford v fulham  ipswich v bolton  portsmouth v gillingham  northampton v southampton  qpr v nottm forest  luton v hinckley/brentford  matches to be played on weekend of 8/9 january.'"
            ],
            "application/vnd.google.colaboratory.intrinsic+json": {
              "type": "string"
            }
          },
          "metadata": {},
          "execution_count": 16
        }
      ]
    },
    {
      "cell_type": "code",
      "source": [
        "len(text)"
      ],
      "metadata": {
        "colab": {
          "base_uri": "https://localhost:8080/"
        },
        "id": "W5W3oUepUZVK",
        "outputId": "e6f7c86a-abe9-403b-f902-93b34ed8fb8a"
      },
      "execution_count": 17,
      "outputs": [
        {
          "output_type": "execute_result",
          "data": {
            "text/plain": [
              "2225"
            ]
          },
          "metadata": {},
          "execution_count": 17
        }
      ]
    },
    {
      "cell_type": "code",
      "source": [
        "length = 0\n",
        "for i in text:\n",
        "  length = max(len(i),length)\n",
        "length"
      ],
      "metadata": {
        "colab": {
          "base_uri": "https://localhost:8080/"
        },
        "id": "vTzjkXFLUwTM",
        "outputId": "7f77f1cd-430e-46bc-d9ba-f46dc3d400f5"
      },
      "execution_count": 18,
      "outputs": [
        {
          "output_type": "execute_result",
          "data": {
            "text/plain": [
              "25483"
            ]
          },
          "metadata": {},
          "execution_count": 18
        }
      ]
    },
    {
      "cell_type": "markdown",
      "source": [
        "Lets make use of the word2vec model from google"
      ],
      "metadata": {
        "id": "xhsJryhjU7pi"
      }
    },
    {
      "cell_type": "code",
      "source": [
        "len(corpus)"
      ],
      "metadata": {
        "colab": {
          "base_uri": "https://localhost:8080/"
        },
        "id": "FFH3sY04U1Ta",
        "outputId": "a0725526-af79-4602-9341-361419b84127"
      },
      "execution_count": 19,
      "outputs": [
        {
          "output_type": "execute_result",
          "data": {
            "text/plain": [
              "2225"
            ]
          },
          "metadata": {},
          "execution_count": 19
        }
      ]
    },
    {
      "cell_type": "code",
      "source": [
        "!pip install gensim"
      ],
      "metadata": {
        "colab": {
          "base_uri": "https://localhost:8080/"
        },
        "id": "eygb5ubMVA3M",
        "outputId": "ce412769-90d3-4977-c2fc-bb1d4e613ce2"
      },
      "execution_count": 20,
      "outputs": [
        {
          "output_type": "stream",
          "name": "stdout",
          "text": [
            "Requirement already satisfied: gensim in /usr/local/lib/python3.10/dist-packages (4.3.1)\n",
            "Requirement already satisfied: numpy>=1.18.5 in /usr/local/lib/python3.10/dist-packages (from gensim) (1.22.4)\n",
            "Requirement already satisfied: scipy>=1.7.0 in /usr/local/lib/python3.10/dist-packages (from gensim) (1.10.1)\n",
            "Requirement already satisfied: smart-open>=1.8.1 in /usr/local/lib/python3.10/dist-packages (from gensim) (6.3.0)\n"
          ]
        }
      ]
    },
    {
      "cell_type": "code",
      "source": [
        "import gensim\n",
        "from gensim.models import Word2Vec, KeyedVectors\n",
        "import gensim.downloader as api\n",
        "\n",
        "# wv = api.load('word2vec-google-news-300')"
      ],
      "metadata": {
        "id": "0lcPGKnjVCcr"
      },
      "execution_count": 21,
      "outputs": []
    },
    {
      "cell_type": "code",
      "source": [
        "from nltk import sent_tokenize\n",
        "from gensim.utils import simple_preprocess"
      ],
      "metadata": {
        "id": "T0hH7sgaVFYC"
      },
      "execution_count": 22,
      "outputs": []
    },
    {
      "cell_type": "code",
      "source": [
        "nltk.download('punkt')"
      ],
      "metadata": {
        "colab": {
          "base_uri": "https://localhost:8080/"
        },
        "id": "mElpOunGVLse",
        "outputId": "1fe26159-7414-458b-ef98-593116d47b72"
      },
      "execution_count": 23,
      "outputs": [
        {
          "output_type": "stream",
          "name": "stderr",
          "text": [
            "[nltk_data] Downloading package punkt to /root/nltk_data...\n",
            "[nltk_data]   Unzipping tokenizers/punkt.zip.\n"
          ]
        },
        {
          "output_type": "execute_result",
          "data": {
            "text/plain": [
              "True"
            ]
          },
          "metadata": {},
          "execution_count": 23
        }
      ]
    },
    {
      "cell_type": "code",
      "source": [
        "words = []\n",
        "for sent in corpus:\n",
        "  sent_token = sent_tokenize(sent) ## Tokenization\n",
        "  for sent in sent_token:\n",
        "    words.append(simple_preprocess(sent)) ## Lowering the words"
      ],
      "metadata": {
        "id": "2d-_bwzKVMrR"
      },
      "execution_count": 24,
      "outputs": []
    },
    {
      "cell_type": "code",
      "source": [
        "w2v_model = gensim.models.Word2Vec(words,window=5,min_count=2)"
      ],
      "metadata": {
        "id": "mP0Tub_IW3Z9"
      },
      "execution_count": 25,
      "outputs": []
    },
    {
      "cell_type": "code",
      "source": [
        "sent_tokenize(corpus[0])"
      ],
      "metadata": {
        "colab": {
          "base_uri": "https://localhost:8080/"
        },
        "id": "Bh1-iMX1XzKL",
        "outputId": "d74a1406-766f-466b-870d-978f3106ad84"
      },
      "execution_count": 26,
      "outputs": [
        {
          "output_type": "execute_result",
          "data": {
            "text/plain": [
              "['tv futur hand viewer home theatr system plasma high definit tv digit video record move live room way peopl watch tv radic differ five year time accord expert panel gather annual consum electron show la vega discuss new technolog impact one favourit pastim us lead trend programm content deliv viewer via home network cabl satellit telecom compani broadband servic provid front room portabl devic one talk technolog ce digit person video record dvr pvr set top box like us tivo uk sky system allow peopl record store play paus forward wind tv programm want essenti technolog allow much personalis tv also built high definit tv set big busi japan us slower take europ lack high definit program peopl forward wind advert also forget abid network channel schedul put togeth la cart entertain us network cabl satellit compani worri mean term advertis revenu well brand ident viewer loyalti channel although us lead technolog moment also concern rais europ particularli grow uptak servic like sky happen today see nine month year time uk adam hume bbc broadcast futurologist told bbc news websit like bbc issu lost advertis revenu yet press issu moment commerci uk broadcast brand loyalti import everyon talk content brand rather network brand said tim hanlon brand commun firm starcom mediavest realiti broadband connect anybodi produc content ad challeng hard promot programm much choic mean said stacey jolna senior vice presid tv guid tv group way peopl find content want watch simplifi tv viewer mean network us term channel could take leaf googl book search engin futur instead schedul help peopl find want watch kind channel model might work younger ipod gener use take control gadget play might suit everyon panel recognis older gener comfort familiar schedul channel brand know get perhap want much choic put hand mr hanlon suggest end kid diaper push button alreadi everyth possibl avail said mr hanlon ultim consum tell market want 50 000 new gadget technolog showcas ce mani enhanc tv watch experi high definit tv set everywher mani new model lcd liquid crystal display tv launch dvr capabl built instead extern box one exampl launch show humax 26 inch lcd tv 80 hour tivo dvr dvd record one us biggest satellit tv compani directtv even launch brand dvr show 100 hour record capabl instant replay search function set paus rewind tv 90 hour microsoft chief bill gate announc pre show keynot speech partnership tivo call tivotogo mean peopl play record programm window pc mobil devic reflect increas trend free multimedia peopl watch want want']"
            ]
          },
          "metadata": {},
          "execution_count": 26
        }
      ]
    },
    {
      "cell_type": "code",
      "source": [
        "# Now lets conver the output category into numeric by encoding them\n",
        "y = pd.get_dummies(df['category'],columns=df[\"category\"]).values\n",
        "y"
      ],
      "metadata": {
        "colab": {
          "base_uri": "https://localhost:8080/"
        },
        "id": "iE6HO1XzdHFw",
        "outputId": "1412c687-f983-4ef8-fce7-3cbe03c64292"
      },
      "execution_count": 27,
      "outputs": [
        {
          "output_type": "execute_result",
          "data": {
            "text/plain": [
              "array([[0, 0, 0, 0, 1],\n",
              "       [1, 0, 0, 0, 0],\n",
              "       [0, 0, 0, 1, 0],\n",
              "       ...,\n",
              "       [0, 1, 0, 0, 0],\n",
              "       [0, 0, 1, 0, 0],\n",
              "       [0, 0, 0, 1, 0]], dtype=uint8)"
            ]
          },
          "metadata": {},
          "execution_count": 27
        }
      ]
    },
    {
      "cell_type": "code",
      "source": [
        "# Split the data\n",
        "from sklearn.model_selection import train_test_split\n",
        "x_train,x_test,y_train,y_test = train_test_split(corpus,y,test_size=0.3,random_state=24)"
      ],
      "metadata": {
        "id": "-6QOA23QakpM"
      },
      "execution_count": 28,
      "outputs": []
    },
    {
      "cell_type": "code",
      "source": [
        "train_words = []\n",
        "for sent in x_train:\n",
        "  sent_token = sent_tokenize(sent) ## Tokenization\n",
        "  for sent in sent_token:\n",
        "    train_words.append(simple_preprocess(sent)) ## Lowering the words"
      ],
      "metadata": {
        "id": "d_6sOY05azTb"
      },
      "execution_count": 29,
      "outputs": []
    },
    {
      "cell_type": "code",
      "source": [
        "w2v_model.wv.index_to_key"
      ],
      "metadata": {
        "colab": {
          "base_uri": "https://localhost:8080/"
        },
        "id": "NW3UZqCxW5jE",
        "outputId": "f9940834-ed28-4e09-c544-090d9ff4a379"
      },
      "execution_count": 30,
      "outputs": [
        {
          "output_type": "execute_result",
          "data": {
            "text/plain": [
              "['said',\n",
              " 'year',\n",
              " 'mr',\n",
              " 'would',\n",
              " 'also',\n",
              " 'peopl',\n",
              " 'new',\n",
              " 'us',\n",
              " 'one',\n",
              " 'time',\n",
              " 'game',\n",
              " 'say',\n",
              " 'use',\n",
              " 'could',\n",
              " 'make',\n",
              " 'last',\n",
              " 'first',\n",
              " 'two',\n",
              " 'like',\n",
              " 'govern',\n",
              " 'go',\n",
              " 'world',\n",
              " 'play',\n",
              " 'get',\n",
              " 'take',\n",
              " 'film',\n",
              " 'uk',\n",
              " 'compani',\n",
              " 'work',\n",
              " 'back',\n",
              " 'show',\n",
              " 'firm',\n",
              " 'best',\n",
              " 'want',\n",
              " 'bn',\n",
              " 'win',\n",
              " 'music',\n",
              " 'market',\n",
              " 'told',\n",
              " 'number',\n",
              " 'plan',\n",
              " 'month',\n",
              " 'servic',\n",
              " 'set',\n",
              " 'made',\n",
              " 'come',\n",
              " 'includ',\n",
              " 'ad',\n",
              " 'way',\n",
              " 'report',\n",
              " 'countri',\n",
              " 'player',\n",
              " 'mani',\n",
              " 'three',\n",
              " 'elect',\n",
              " 'labour',\n",
              " 'week',\n",
              " 'parti',\n",
              " 'need',\n",
              " 'look',\n",
              " 'well',\n",
              " 'next',\n",
              " 'expect',\n",
              " 'bbc',\n",
              " 'call',\n",
              " 'day',\n",
              " 'home',\n",
              " 'minist',\n",
              " 'sale',\n",
              " 'nation',\n",
              " 'good',\n",
              " 'think',\n",
              " 'second',\n",
              " 'technolog',\n",
              " 'million',\n",
              " 'may',\n",
              " 'right',\n",
              " 'help',\n",
              " 'top',\n",
              " 'mobil',\n",
              " 'see',\n",
              " 'record',\n",
              " 'end',\n",
              " 'award',\n",
              " 'start',\n",
              " 'open',\n",
              " 'part',\n",
              " 'share',\n",
              " 'gener',\n",
              " 'group',\n",
              " 'offer',\n",
              " 'still',\n",
              " 'much',\n",
              " 'phone',\n",
              " 'england',\n",
              " 'claim',\n",
              " 'sinc',\n",
              " 'public',\n",
              " 'move',\n",
              " 'blair',\n",
              " 'tri',\n",
              " 'high',\n",
              " 'put',\n",
              " 'run',\n",
              " 'tax',\n",
              " 'star',\n",
              " 'hope',\n",
              " 'even',\n",
              " 'chang',\n",
              " 'system',\n",
              " 'european',\n",
              " 'tv',\n",
              " 'bank',\n",
              " 'british',\n",
              " 'issu',\n",
              " 'current',\n",
              " 'five',\n",
              " 'believ',\n",
              " 'follow',\n",
              " 'price',\n",
              " 'place',\n",
              " 'develop',\n",
              " 'increas',\n",
              " 'cost',\n",
              " 'face',\n",
              " 'industri',\n",
              " 'final',\n",
              " 'news',\n",
              " 'secur',\n",
              " 'tori',\n",
              " 'howev',\n",
              " 'deal',\n",
              " 'busi',\n",
              " 'manag',\n",
              " 'give',\n",
              " 'old',\n",
              " 'director',\n",
              " 'four',\n",
              " 'rate',\n",
              " 'offic',\n",
              " 'state',\n",
              " 'comput',\n",
              " 'unit',\n",
              " 'net',\n",
              " 'hit',\n",
              " 'support',\n",
              " 'user',\n",
              " 'law',\n",
              " 'cut',\n",
              " 'six',\n",
              " 'rule',\n",
              " 'brown',\n",
              " 'economi',\n",
              " 'product',\n",
              " 'chief',\n",
              " 'continu',\n",
              " 'point',\n",
              " 'interest',\n",
              " 'half',\n",
              " 'base',\n",
              " 'alreadi',\n",
              " 'london',\n",
              " 'recent',\n",
              " 'intern',\n",
              " 'team',\n",
              " 'problem',\n",
              " 'growth',\n",
              " 'meet',\n",
              " 'rise',\n",
              " 'oper',\n",
              " 'becom',\n",
              " 'britain',\n",
              " 'job',\n",
              " 'former',\n",
              " 'campaign',\n",
              " 'long',\n",
              " 'perform',\n",
              " 'allow',\n",
              " 'money',\n",
              " 'digit',\n",
              " 'know',\n",
              " 'releas',\n",
              " 'decis',\n",
              " 'econom',\n",
              " 'figur',\n",
              " 'club',\n",
              " 'thing',\n",
              " 'lead',\n",
              " 'accord',\n",
              " 'third',\n",
              " 'power',\n",
              " 'live',\n",
              " 'announc',\n",
              " 'network',\n",
              " 'consum',\n",
              " 'spend',\n",
              " 'side',\n",
              " 'big',\n",
              " 'mean',\n",
              " 'europ',\n",
              " 'control',\n",
              " 'court',\n",
              " 'match',\n",
              " 'analyst',\n",
              " 'vote',\n",
              " 'around',\n",
              " 'lord',\n",
              " 'inform',\n",
              " 'person',\n",
              " 'execut',\n",
              " 'case',\n",
              " 'major',\n",
              " 'return',\n",
              " 'great',\n",
              " 'result',\n",
              " 'wale',\n",
              " 'name',\n",
              " 'remain',\n",
              " 'produc',\n",
              " 'line',\n",
              " 'realli',\n",
              " 'futur',\n",
              " 'leader',\n",
              " 'softwar',\n",
              " 'attack',\n",
              " 'anoth',\n",
              " 'success',\n",
              " 'life',\n",
              " 'video',\n",
              " 'find',\n",
              " 'action',\n",
              " 'got',\n",
              " 'hous',\n",
              " 'mp',\n",
              " 'trade',\n",
              " 'ask',\n",
              " 'close',\n",
              " 'franc',\n",
              " 'pay',\n",
              " 'found',\n",
              " 'took',\n",
              " 'site',\n",
              " 'howard',\n",
              " 'polit',\n",
              " 'turn',\n",
              " 'import',\n",
              " 'lot',\n",
              " 'differ',\n",
              " 'came',\n",
              " 'launch',\n",
              " 'websit',\n",
              " 'talk',\n",
              " 'presid',\n",
              " 'better',\n",
              " 'provid',\n",
              " 'programm',\n",
              " 'spokesman',\n",
              " 'warn',\n",
              " 'concern',\n",
              " 'radio',\n",
              " 'creat',\n",
              " 'list',\n",
              " 'research',\n",
              " 'onlin',\n",
              " 'without',\n",
              " 'titl',\n",
              " 'suggest',\n",
              " 'real',\n",
              " 'ireland',\n",
              " 'level',\n",
              " 'bill',\n",
              " 'despit',\n",
              " 'profit',\n",
              " 'term',\n",
              " 'far',\n",
              " 'minut',\n",
              " 'prime',\n",
              " 'member',\n",
              " 'charg',\n",
              " 'data',\n",
              " 'seen',\n",
              " 'china',\n",
              " 'role',\n",
              " 'media',\n",
              " 'foreign',\n",
              " 'chanc',\n",
              " 'legal',\n",
              " 'forc',\n",
              " 'appear',\n",
              " 'given',\n",
              " 'act',\n",
              " 'hold',\n",
              " 'file',\n",
              " 'head',\n",
              " 'away',\n",
              " 'test',\n",
              " 'abl',\n",
              " 'pc',\n",
              " 'posit',\n",
              " 'receiv',\n",
              " 'hand',\n",
              " 'everi',\n",
              " 'internet',\n",
              " 'demand',\n",
              " 'januari',\n",
              " 'mail',\n",
              " 'offici',\n",
              " 'oil',\n",
              " 'access',\n",
              " 'season',\n",
              " 'lost',\n",
              " 'sign',\n",
              " 'decemb',\n",
              " 'fund',\n",
              " 'keep',\n",
              " 'biggest',\n",
              " 'cup',\n",
              " 'quarter',\n",
              " 'although',\n",
              " 'invest',\n",
              " 'left',\n",
              " 'anti',\n",
              " 'secretari',\n",
              " 'man',\n",
              " 'later',\n",
              " 'whether',\n",
              " 'respons',\n",
              " 'let',\n",
              " 'hard',\n",
              " 'propos',\n",
              " 'earli',\n",
              " 'eu',\n",
              " 'account',\n",
              " 'past',\n",
              " 'possibl',\n",
              " 'dollar',\n",
              " 'less',\n",
              " 'sport',\n",
              " 'fail',\n",
              " 'song',\n",
              " 'earlier',\n",
              " 'polici',\n",
              " 'buy',\n",
              " 'michael',\n",
              " 'budget',\n",
              " 'polic',\n",
              " 'commun',\n",
              " 'organis',\n",
              " 'due',\n",
              " 'champion',\n",
              " 'agre',\n",
              " 'reach',\n",
              " 'children',\n",
              " 'clear',\n",
              " 'card',\n",
              " 'local',\n",
              " 'coach',\n",
              " 'injuri',\n",
              " 'littl',\n",
              " 'financi',\n",
              " 'never',\n",
              " 'strong',\n",
              " 'mark',\n",
              " 'key',\n",
              " 'book',\n",
              " 'microsoft',\n",
              " 'thought',\n",
              " 'euro',\n",
              " 'order',\n",
              " 'question',\n",
              " 'free',\n",
              " 'competit',\n",
              " 'devic',\n",
              " 'school',\n",
              " 'chancellor',\n",
              " 'singl',\n",
              " 'improv',\n",
              " 'critic',\n",
              " 'target',\n",
              " 'went',\n",
              " 'american',\n",
              " 'happen',\n",
              " 'download',\n",
              " 'william',\n",
              " 'search',\n",
              " 'fall',\n",
              " 'band',\n",
              " 'ahead',\n",
              " 'centr',\n",
              " 'rais',\n",
              " 'beat',\n",
              " 'sell',\n",
              " 'bid',\n",
              " 'statement',\n",
              " 'must',\n",
              " 'messag',\n",
              " 'form',\n",
              " 'protect',\n",
              " 'break',\n",
              " 'project',\n",
              " 'total',\n",
              " 'john',\n",
              " 'huge',\n",
              " 'conserv',\n",
              " 'actor',\n",
              " 'grow',\n",
              " 'held',\n",
              " 'south',\n",
              " 'union',\n",
              " 'miss',\n",
              " 'broadband',\n",
              " 'seri',\n",
              " 'full',\n",
              " 'event',\n",
              " 'david',\n",
              " 'comment',\n",
              " 'movi',\n",
              " 'latest',\n",
              " 'scotland',\n",
              " 'someth',\n",
              " 'nomin',\n",
              " 'council',\n",
              " 'ms',\n",
              " 'area',\n",
              " 'yet',\n",
              " 'feel',\n",
              " 'sunday',\n",
              " 'aid',\n",
              " 'effect',\n",
              " 'involv',\n",
              " 'war',\n",
              " 'fan',\n",
              " 'decid',\n",
              " 'among',\n",
              " 'famili',\n",
              " 'low',\n",
              " 'alway',\n",
              " 'goal',\n",
              " 'hour',\n",
              " 'almost',\n",
              " 'version',\n",
              " 'women',\n",
              " 'age',\n",
              " 'direct',\n",
              " 'present',\n",
              " 'race',\n",
              " 'build',\n",
              " 'stop',\n",
              " 'might',\n",
              " 'design',\n",
              " 'ever',\n",
              " 'ago',\n",
              " 'behind',\n",
              " 'aim',\n",
              " 'program',\n",
              " 'taken',\n",
              " 'march',\n",
              " 'custom',\n",
              " 'content',\n",
              " 'sold',\n",
              " 'dvd',\n",
              " 'men',\n",
              " 'consid',\n",
              " 'chairman',\n",
              " 'enough',\n",
              " 'deni',\n",
              " 'across',\n",
              " 'done',\n",
              " 'toni',\n",
              " 'oscar',\n",
              " 'replac',\n",
              " 'quit',\n",
              " 'rather',\n",
              " 'victori',\n",
              " 'winner',\n",
              " 'wide',\n",
              " 'global',\n",
              " 'album',\n",
              " 'februari',\n",
              " 'sever',\n",
              " 'boost',\n",
              " 'screen',\n",
              " 'drive',\n",
              " 'challeng',\n",
              " 'view',\n",
              " 'bring',\n",
              " 'join',\n",
              " 'wednesday',\n",
              " 'th',\n",
              " 'citi',\n",
              " 'author',\n",
              " 'tuesday',\n",
              " 'standard',\n",
              " 'drop',\n",
              " 'save',\n",
              " 'confid',\n",
              " 'commiss',\n",
              " 'japan',\n",
              " 'olymp',\n",
              " 'associ',\n",
              " 'trial',\n",
              " 'avail',\n",
              " 'popular',\n",
              " 'stand',\n",
              " 'gadget',\n",
              " 'monday',\n",
              " 'ban',\n",
              " 'stock',\n",
              " 'earn',\n",
              " 'rugbi',\n",
              " 'fear',\n",
              " 'novemb',\n",
              " 'box',\n",
              " 'chart',\n",
              " 'young',\n",
              " 'limit',\n",
              " 'india',\n",
              " 'car',\n",
              " 'least',\n",
              " 'within',\n",
              " 'common',\n",
              " 'today',\n",
              " 'fight',\n",
              " 'predict',\n",
              " 'chelsea',\n",
              " 'featur',\n",
              " 'origin',\n",
              " 'forward',\n",
              " 'feder',\n",
              " 'human',\n",
              " 'main',\n",
              " 'watch',\n",
              " 'broadcast',\n",
              " 'friday',\n",
              " 'prize',\n",
              " 'step',\n",
              " 'machin',\n",
              " 'saturday',\n",
              " 'appl',\n",
              " 'ensur',\n",
              " 'leagu',\n",
              " 'drug',\n",
              " 'argu',\n",
              " 'attempt',\n",
              " 'yuko',\n",
              " 'career',\n",
              " 'host',\n",
              " 'larg',\n",
              " 'univers',\n",
              " 'opportun',\n",
              " 'web',\n",
              " 'debt',\n",
              " 'idea',\n",
              " 'tour',\n",
              " 'known',\n",
              " 'speed',\n",
              " 'stage',\n",
              " 'cash',\n",
              " 'accus',\n",
              " 'insist',\n",
              " 'promis',\n",
              " 'educ',\n",
              " 'footbal',\n",
              " 'leav',\n",
              " 'democrat',\n",
              " 'link',\n",
              " 'televis',\n",
              " 'doubl',\n",
              " 'street',\n",
              " 'valu',\n",
              " 'small',\n",
              " 'detail',\n",
              " 'french',\n",
              " 'rang',\n",
              " 'choic',\n",
              " 'soni',\n",
              " 'committe',\n",
              " 'connect',\n",
              " 'liber',\n",
              " 'complet',\n",
              " 'though',\n",
              " 'independ',\n",
              " 'date',\n",
              " 'boss',\n",
              " 'pension',\n",
              " 'potenti',\n",
              " 'pictur',\n",
              " 'love',\n",
              " 'score',\n",
              " 'effort',\n",
              " 'process',\n",
              " 'appeal',\n",
              " 'black',\n",
              " 'higher',\n",
              " 'saw',\n",
              " 'evid',\n",
              " 'previou',\n",
              " 'health',\n",
              " 'iraq',\n",
              " 'led',\n",
              " 'short',\n",
              " 'board',\n",
              " 'damag',\n",
              " 'agenc',\n",
              " 'initi',\n",
              " 'eight',\n",
              " 'giant',\n",
              " 'defend',\n",
              " 'sure',\n",
              " 'fact',\n",
              " 'dem',\n",
              " 'imag',\n",
              " 'festiv',\n",
              " 'care',\n",
              " 'lib',\n",
              " 'arsen',\n",
              " 'pressur',\n",
              " 'difficult',\n",
              " 'sir',\n",
              " 'reason',\n",
              " 'annual',\n",
              " 'rose',\n",
              " 'train',\n",
              " 'christma',\n",
              " 'other',\n",
              " 'speak',\n",
              " 'commit',\n",
              " 'york',\n",
              " 'rival',\n",
              " 'publish',\n",
              " 'survey',\n",
              " 'financ',\n",
              " 'russian',\n",
              " 'fourth',\n",
              " 'judg',\n",
              " 'accept',\n",
              " 'battl',\n",
              " 'seem',\n",
              " 'thursday',\n",
              " 'carri',\n",
              " 'late',\n",
              " 'prove',\n",
              " 'camera',\n",
              " 'caus',\n",
              " 'investig',\n",
              " 'repres',\n",
              " 'reveal',\n",
              " 'viru',\n",
              " 'send',\n",
              " 'lose',\n",
              " 'exchang',\n",
              " 'risk',\n",
              " 'admit',\n",
              " 'post',\n",
              " 'airlin',\n",
              " 'septemb',\n",
              " 'artist',\n",
              " 'noth',\n",
              " 'maker',\n",
              " 'itali',\n",
              " 'co',\n",
              " 'instead',\n",
              " 'charl',\n",
              " 'benefit',\n",
              " 'jone',\n",
              " 'affect',\n",
              " 'special',\n",
              " 'suffer',\n",
              " 'compar',\n",
              " 'voter',\n",
              " 'singer',\n",
              " 'athlet',\n",
              " 'confer',\n",
              " 'pick',\n",
              " 'cannot',\n",
              " 'reduc',\n",
              " 'press',\n",
              " 'round',\n",
              " 'kick',\n",
              " 'achiev',\n",
              " 'employ',\n",
              " 'poll',\n",
              " 'octob',\n",
              " 'davi',\n",
              " 'ball',\n",
              " 'electron',\n",
              " 'hunt',\n",
              " 'blog',\n",
              " 'track',\n",
              " 'actress',\n",
              " 'definit',\n",
              " 'seek',\n",
              " 'immigr',\n",
              " 'confirm',\n",
              " 'pass',\n",
              " 'begin',\n",
              " 'liverpool',\n",
              " 'summer',\n",
              " 'moment',\n",
              " 'seven',\n",
              " 'measur',\n",
              " 'amount',\n",
              " 'compet',\n",
              " 'terror',\n",
              " 'stori',\n",
              " 'individu',\n",
              " 'paid',\n",
              " 'parliament',\n",
              " 'newspap',\n",
              " 'depart',\n",
              " 'togeth',\n",
              " 'audienc',\n",
              " 'bit',\n",
              " 'export',\n",
              " 'push',\n",
              " 'experi',\n",
              " 'fell',\n",
              " 'entertain',\n",
              " 'stay',\n",
              " 'introduc',\n",
              " 'sector',\n",
              " 'bodi',\n",
              " 'discuss',\n",
              " 'reform',\n",
              " 'championship',\n",
              " 'africa',\n",
              " 'similar',\n",
              " 'weekend',\n",
              " 'period',\n",
              " 'paul',\n",
              " 'deliv',\n",
              " 'store',\n",
              " 'investor',\n",
              " 'australian',\n",
              " 'contract',\n",
              " 'extra',\n",
              " 'engin',\n",
              " 'finish',\n",
              " 'night',\n",
              " 'estim',\n",
              " 'sent',\n",
              " 'controversi',\n",
              " 'pre',\n",
              " 'window',\n",
              " 'worker',\n",
              " 'domin',\n",
              " 'tell',\n",
              " 'model',\n",
              " 'worri',\n",
              " 'loss',\n",
              " 'gain',\n",
              " 'trust',\n",
              " 'german',\n",
              " 'serv',\n",
              " 'rock',\n",
              " 'manufactur',\n",
              " 'fit',\n",
              " 'parent',\n",
              " 'largest',\n",
              " 'gordon',\n",
              " 'robert',\n",
              " 'manchest',\n",
              " 'air',\n",
              " 'brand',\n",
              " 'senior',\n",
              " 'surpris',\n",
              " 'irish',\n",
              " 'alleg',\n",
              " 'copi',\n",
              " 'anyth',\n",
              " 'wait',\n",
              " 'germani',\n",
              " 'speech',\n",
              " 'wrong',\n",
              " 'dr',\n",
              " 'simpli',\n",
              " 'per',\n",
              " 'threat',\n",
              " 'understand',\n",
              " 'whole',\n",
              " 'die',\n",
              " 'prepar',\n",
              " 'martin',\n",
              " 'illeg',\n",
              " 'west',\n",
              " 'grand',\n",
              " 'exist',\n",
              " 'matter',\n",
              " 'squad',\n",
              " 'forecast',\n",
              " 'revenu',\n",
              " 'credit',\n",
              " 'favourit',\n",
              " 'either',\n",
              " 'crimin',\n",
              " 'scheme',\n",
              " 'privat',\n",
              " 'debat',\n",
              " 'retail',\n",
              " 'russia',\n",
              " 'studi',\n",
              " 'defeat',\n",
              " 'travel',\n",
              " 'impress',\n",
              " 'penalti',\n",
              " 'activ',\n",
              " 'averag',\n",
              " 'cross',\n",
              " 'emerg',\n",
              " 'write',\n",
              " 'bt',\n",
              " 'scottish',\n",
              " 'cours',\n",
              " 'situat',\n",
              " 'categori',\n",
              " 'comedi',\n",
              " 'energi',\n",
              " 'debut',\n",
              " 'bush',\n",
              " 'consol',\n",
              " 'read',\n",
              " 'refus',\n",
              " 'shot',\n",
              " 'voic',\n",
              " 'gave',\n",
              " 'meanwhil',\n",
              " 'incom',\n",
              " 'sound',\n",
              " 'kennedi',\n",
              " 'everyon',\n",
              " 'channel',\n",
              " 'tackl',\n",
              " 'outsid',\n",
              " 'fraud',\n",
              " 'deficit',\n",
              " 'reject',\n",
              " 'impact',\n",
              " 'sharehold',\n",
              " 'sourc',\n",
              " 'word',\n",
              " 'tsunami',\n",
              " 'histori',\n",
              " 'front',\n",
              " 'robinson',\n",
              " 'peer',\n",
              " 'qualiti',\n",
              " 'review',\n",
              " 'own',\n",
              " 'happi',\n",
              " 'requir',\n",
              " 'regul',\n",
              " 'defenc',\n",
              " 'everyth',\n",
              " 'soon',\n",
              " 'pop',\n",
              " 'studio',\n",
              " 'add',\n",
              " 'tough',\n",
              " 'ukip',\n",
              " 'doubt',\n",
              " 'lower',\n",
              " 'avoid',\n",
              " 'via',\n",
              " 'aviat',\n",
              " 'describ',\n",
              " 'america',\n",
              " 'unveil',\n",
              " 'poor',\n",
              " 'clark',\n",
              " 'smith',\n",
              " 'visit',\n",
              " 'staff',\n",
              " 'celebr',\n",
              " 'disappoint',\n",
              " 'particularli',\n",
              " 'exampl',\n",
              " 'spent',\n",
              " 'spam',\n",
              " 'becam',\n",
              " 'bought',\n",
              " 'field',\n",
              " 'friend',\n",
              " 'brought',\n",
              " 'australia',\n",
              " 'opposit',\n",
              " 'address',\n",
              " 'student',\n",
              " 'approach',\n",
              " 'june',\n",
              " 'promot',\n",
              " 'respect',\n",
              " 'agreement',\n",
              " 'collect',\n",
              " 'whose',\n",
              " 'focu',\n",
              " 'enjoy',\n",
              " 'honour',\n",
              " 'captain',\n",
              " 'bad',\n",
              " 'billion',\n",
              " 'retir',\n",
              " 'corpor',\n",
              " 'arrest',\n",
              " 'crime',\n",
              " 'expert',\n",
              " 'approv',\n",
              " 'shown',\n",
              " 'death',\n",
              " 'ceremoni',\n",
              " 'kilroy',\n",
              " 'often',\n",
              " 'struggl',\n",
              " 'civil',\n",
              " 'googl',\n",
              " 'lawyer',\n",
              " 'pledg',\n",
              " 'light',\n",
              " 'easi',\n",
              " 'disast',\n",
              " 'indian',\n",
              " 'roddick',\n",
              " 'andi',\n",
              " 'fine',\n",
              " 'declin',\n",
              " 'code',\n",
              " 'april',\n",
              " 'economist',\n",
              " 'non',\n",
              " 'longer',\n",
              " 'separ',\n",
              " 'row',\n",
              " 'sort',\n",
              " 'mike',\n",
              " 'criticis',\n",
              " 'region',\n",
              " 'cover',\n",
              " 'encourag',\n",
              " 'coupl',\n",
              " 'jame',\n",
              " 'gone',\n",
              " 'societi',\n",
              " 'social',\n",
              " 'central',\n",
              " 'worth',\n",
              " 'ground',\n",
              " 'hollywood',\n",
              " 'park',\n",
              " 'specul',\n",
              " 'ray',\n",
              " 'johnson',\n",
              " 'enter',\n",
              " 'heart',\n",
              " 'slow',\n",
              " 'seed',\n",
              " 'alan',\n",
              " 'explain',\n",
              " 'angel',\n",
              " 'north',\n",
              " 'silk',\n",
              " 'station',\n",
              " 'fast',\n",
              " 'spot',\n",
              " 'attend',\n",
              " 'natur',\n",
              " 'actual',\n",
              " 'thousand',\n",
              " 'rest',\n",
              " 'paper',\n",
              " 'answer',\n",
              " 'chip',\n",
              " 'hear',\n",
              " 'campbel',\n",
              " 'seriou',\n",
              " 'previous',\n",
              " 'mini',\n",
              " 'deutsch',\n",
              " 'listen',\n",
              " 'de',\n",
              " 'combin',\n",
              " 'mind',\n",
              " 'probabl',\n",
              " 'fli',\n",
              " 'white',\n",
              " 'reflect',\n",
              " 'handset',\n",
              " 'pair',\n",
              " 'nine',\n",
              " 'insur',\n",
              " 'jump',\n",
              " 'affair',\n",
              " 'lack',\n",
              " 'spain',\n",
              " 'toward',\n",
              " 'madrid',\n",
              " 'anyon',\n",
              " 'express',\n",
              " 'richard',\n",
              " 'interview',\n",
              " 'tool',\n",
              " 'magazin',\n",
              " ...]"
            ]
          },
          "metadata": {},
          "execution_count": 30
        }
      ]
    },
    {
      "cell_type": "code",
      "source": [
        "w2v_model.corpus_count"
      ],
      "metadata": {
        "colab": {
          "base_uri": "https://localhost:8080/"
        },
        "id": "Nyei8qp8XUf6",
        "outputId": "c605378b-307b-412b-9395-bae2cb111bd4"
      },
      "execution_count": 31,
      "outputs": [
        {
          "output_type": "execute_result",
          "data": {
            "text/plain": [
              "2225"
            ]
          },
          "metadata": {},
          "execution_count": 31
        }
      ]
    },
    {
      "cell_type": "code",
      "source": [
        "w2v_model.wv.similar_by_word('criticis')"
      ],
      "metadata": {
        "colab": {
          "base_uri": "https://localhost:8080/"
        },
        "id": "B9EdJ7GVYT-i",
        "outputId": "c671f3cf-537b-41f7-a7dd-6c5241d3aa18"
      },
      "execution_count": 32,
      "outputs": [
        {
          "output_type": "execute_result",
          "data": {
            "text/plain": [
              "[('leadership', 0.9953164458274841),\n",
              " ('cunningham', 0.9922958612442017),\n",
              " ('verita', 0.9912357926368713),\n",
              " ('stanc', 0.9892310500144958),\n",
              " ('constitu', 0.9884766340255737),\n",
              " ('ruth', 0.9884082674980164),\n",
              " ('dismiss', 0.9882121086120605),\n",
              " ('oliv', 0.9880548715591431),\n",
              " ('manoeuvr', 0.9878876209259033),\n",
              " ('holyrood', 0.9878149628639221)]"
            ]
          },
          "metadata": {},
          "execution_count": 32
        }
      ]
    },
    {
      "cell_type": "code",
      "source": [
        "# Define the tokenizer\n",
        "from keras.preprocessing.text import Tokenizer\n",
        "maxlen = 3000\n",
        "tokenizer = Tokenizer(num_words=17727, filters='!\"#$%&()*+,-./:;<=>?@[\\]^_`{|}~',lower=True)\n",
        "tokenizer.fit_on_texts(x_train)"
      ],
      "metadata": {
        "id": "-Wv4tFq7YjB9"
      },
      "execution_count": 33,
      "outputs": []
    },
    {
      "cell_type": "code",
      "source": [
        "word_index = tokenizer.word_index"
      ],
      "metadata": {
        "id": "ITYbGnqjZh8G"
      },
      "execution_count": 34,
      "outputs": []
    },
    {
      "cell_type": "code",
      "source": [
        "x_train_sequences = tokenizer.texts_to_sequences(x_train)\n",
        "x_test_sequences = tokenizer.texts_to_sequences(x_test)"
      ],
      "metadata": {
        "id": "TVepwFNmZliU"
      },
      "execution_count": 35,
      "outputs": []
    },
    {
      "cell_type": "code",
      "source": [
        "x_train_sequences[0]"
      ],
      "metadata": {
        "colab": {
          "base_uri": "https://localhost:8080/"
        },
        "id": "O-RQjaL8b_eB",
        "outputId": "78510041-d919-44c6-9154-13bd034edff5"
      },
      "execution_count": 36,
      "outputs": [
        {
          "output_type": "execute_result",
          "data": {
            "text/plain": [
              "[360,\n",
              " 347,\n",
              " 30,\n",
              " 12,\n",
              " 3042,\n",
              " 487,\n",
              " 104,\n",
              " 524,\n",
              " 347,\n",
              " 30,\n",
              " 2052,\n",
              " 360,\n",
              " 314,\n",
              " 74,\n",
              " 233,\n",
              " 3173,\n",
              " 696,\n",
              " 180,\n",
              " 360,\n",
              " 347,\n",
              " 203,\n",
              " 100,\n",
              " 272,\n",
              " 58,\n",
              " 398,\n",
              " 723,\n",
              " 879,\n",
              " 63,\n",
              " 2177,\n",
              " 262,\n",
              " 89,\n",
              " 625,\n",
              " 262,\n",
              " 89,\n",
              " 591,\n",
              " 3,\n",
              " 104,\n",
              " 1,\n",
              " 367,\n",
              " 12,\n",
              " 22,\n",
              " 375,\n",
              " 42,\n",
              " 20,\n",
              " 398,\n",
              " 8865,\n",
              " 559,\n",
              " 360,\n",
              " 1817,\n",
              " 2013,\n",
              " 864,\n",
              " 5330,\n",
              " 447,\n",
              " 95,\n",
              " 511,\n",
              " 984,\n",
              " 2302,\n",
              " 347,\n",
              " 879,\n",
              " 11430,\n",
              " 11431,\n",
              " 11432,\n",
              " 1029,\n",
              " 233,\n",
              " 696,\n",
              " 3,\n",
              " 104,\n",
              " 660,\n",
              " 8866,\n",
              " 869,\n",
              " 936,\n",
              " 4921,\n",
              " 11433,\n",
              " 819,\n",
              " 1931,\n",
              " 11434,\n",
              " 347,\n",
              " 2420,\n",
              " 11435,\n",
              " 389,\n",
              " 160,\n",
              " 1,\n",
              " 255,\n",
              " 496,\n",
              " 30,\n",
              " 360,\n",
              " 347,\n",
              " 255,\n",
              " 478,\n",
              " 236,\n",
              " 426,\n",
              " 609,\n",
              " 2,\n",
              " 452,\n",
              " 90,\n",
              " 262,\n",
              " 434,\n",
              " 625,\n",
              " 304,\n",
              " 703,\n",
              " 1030,\n",
              " 46,\n",
              " 70,\n",
              " 128,\n",
              " 530,\n",
              " 58,\n",
              " 399,\n",
              " 53,\n",
              " 8867,\n",
              " 4592,\n",
              " 1848,\n",
              " 281,\n",
              " 618,\n",
              " 8865,\n",
              " 1667,\n",
              " 1269,\n",
              " 2239,\n",
              " 360,\n",
              " 126,\n",
              " 2303,\n",
              " 879,\n",
              " 4022,\n",
              " 360,\n",
              " 353,\n",
              " 48,\n",
              " 22,\n",
              " 554,\n",
              " 1115,\n",
              " 298,\n",
              " 2013,\n",
              " 26,\n",
              " 530,\n",
              " 20,\n",
              " 398,\n",
              " 106,\n",
              " 846,\n",
              " 1377,\n",
              " 625,\n",
              " 63,\n",
              " 3043,\n",
              " 129,\n",
              " 2751,\n",
              " 22,\n",
              " 133,\n",
              " 4,\n",
              " 147,\n",
              " 2304,\n",
              " 2119,\n",
              " 584,\n",
              " 2177,\n",
              " 204,\n",
              " 696,\n",
              " 45,\n",
              " 8,\n",
              " 3173,\n",
              " 281,\n",
              " 3173,\n",
              " 95,\n",
              " 5,\n",
              " 111,\n",
              " 40,\n",
              " 2239,\n",
              " 347,\n",
              " 2420,\n",
              " 4922,\n",
              " 2053,\n",
              " 367,\n",
              " 238,\n",
              " 147,\n",
              " 4593,\n",
              " 273,\n",
              " 1,\n",
              " 101,\n",
              " 172,\n",
              " 348,\n",
              " 20,\n",
              " 398,\n",
              " 347,\n",
              " 63,\n",
              " 129,\n",
              " 22,\n",
              " 524,\n",
              " 387,\n",
              " 675,\n",
              " 1818,\n",
              " 1077,\n",
              " 247,\n",
              " 347,\n",
              " 1774,\n",
              " 3620,\n",
              " 1,\n",
              " 1136,\n",
              " 2752,\n",
              " 47,\n",
              " 858,\n",
              " 59,\n",
              " 94,\n",
              " 4594,\n",
              " 117,\n",
              " 1440,\n",
              " 203,\n",
              " 266,\n",
              " 2120,\n",
              " 347,\n",
              " 959,\n",
              " 724,\n",
              " 360,\n",
              " 347,\n",
              " 102,\n",
              " 1,\n",
              " 3621,\n",
              " 116,\n",
              " 1016,\n",
              " 347,\n",
              " 12,\n",
              " 382,\n",
              " 353,\n",
              " 347,\n",
              " 2240,\n",
              " 2054,\n",
              " 167,\n",
              " 2,\n",
              " 835,\n",
              " 5331,\n",
              " 3818,\n",
              " 274,\n",
              " 505,\n",
              " 1,\n",
              " 275,\n",
              " 19,\n",
              " 1528,\n",
              " 7422,\n",
              " 281,\n",
              " 360,\n",
              " 442,\n",
              " 184,\n",
              " 204]"
            ]
          },
          "metadata": {},
          "execution_count": 36
        }
      ]
    },
    {
      "cell_type": "code",
      "source": [
        "len(x_train_sequences[0]),len(x_train_sequences[1])"
      ],
      "metadata": {
        "colab": {
          "base_uri": "https://localhost:8080/"
        },
        "id": "S6GA2QNPcC_7",
        "outputId": "099ea6a4-408c-4cb8-d081-c753480289a7"
      },
      "execution_count": 37,
      "outputs": [
        {
          "output_type": "execute_result",
          "data": {
            "text/plain": [
              "(237, 260)"
            ]
          },
          "metadata": {},
          "execution_count": 37
        }
      ]
    },
    {
      "cell_type": "code",
      "source": [
        "# Since the number representation of the text are not the same, we need to pad them in order to make them same\n",
        "from tensorflow.keras.preprocessing.sequence import pad_sequences\n",
        "x_train = pad_sequences(x_train_sequences, maxlen=3000,padding='pre')\n",
        "x_test = pad_sequences(x_test_sequences,maxlen=3000,padding='pre')"
      ],
      "metadata": {
        "id": "gSnVOQXAcFWB"
      },
      "execution_count": 38,
      "outputs": []
    },
    {
      "cell_type": "markdown",
      "source": [
        "#3. Model"
      ],
      "metadata": {
        "id": "iEGmoWkadSb1"
      }
    },
    {
      "cell_type": "code",
      "source": [
        "from keras.models import Sequential\n",
        "from keras.layers import Dense, Embedding, LSTM, SpatialDropout1D\n",
        "from keras.callbacks import EarlyStopping"
      ],
      "metadata": {
        "id": "5DbH2LOLdBmZ"
      },
      "execution_count": 39,
      "outputs": []
    },
    {
      "cell_type": "code",
      "source": [
        "import numpy as np"
      ],
      "metadata": {
        "id": "6cUw8T3j-wwf"
      },
      "execution_count": 40,
      "outputs": []
    },
    {
      "cell_type": "code",
      "source": [
        "embedding_matrix = np.zeros((len(word_index)+1, 100))\n",
        "for word,i in word_index.items():\n",
        "    try:\n",
        "        embedding_matrix[i] = w2v_model.wv[i]\n",
        "    except:\n",
        "        embedding_matrix[i] = np.zeros(100)"
      ],
      "metadata": {
        "id": "MBSci0eT-tQV"
      },
      "execution_count": 41,
      "outputs": []
    },
    {
      "cell_type": "code",
      "source": [
        "len(embedding_matrix)"
      ],
      "metadata": {
        "colab": {
          "base_uri": "https://localhost:8080/"
        },
        "id": "uPBRb94K-8MI",
        "outputId": "8c91366b-6595-482c-d506-7b01252b98fe"
      },
      "execution_count": 42,
      "outputs": [
        {
          "output_type": "execute_result",
          "data": {
            "text/plain": [
              "17727"
            ]
          },
          "metadata": {},
          "execution_count": 42
        }
      ]
    },
    {
      "cell_type": "code",
      "source": [
        "model=Sequential()\n",
        "model.add(Embedding(50000,100,input_length=3000)) #100 is the output dimension of each word # Input as the number of words (vocabulary size)\n",
        "model.add(LSTM(100, dropout=0.2, recurrent_dropout=0.2))  #Softmax for multiclass\n",
        "model.add(Dense(5, activation='softmax'))\n",
        "model.compile(loss='categorical_crossentropy', optimizer='adam', metrics=['accuracy'])"
      ],
      "metadata": {
        "colab": {
          "base_uri": "https://localhost:8080/"
        },
        "id": "jcBL5WR2dbFR",
        "outputId": "b805d153-011b-4d47-cbad-8d51c5589a1f"
      },
      "execution_count": 43,
      "outputs": [
        {
          "output_type": "stream",
          "name": "stderr",
          "text": [
            "WARNING:tensorflow:Layer lstm will not use cuDNN kernels since it doesn't meet the criteria. It will use a generic GPU kernel as fallback when running on GPU.\n"
          ]
        }
      ]
    },
    {
      "cell_type": "code",
      "source": [
        "print(model.summary())"
      ],
      "metadata": {
        "colab": {
          "base_uri": "https://localhost:8080/"
        },
        "id": "1duNaSS0dxgI",
        "outputId": "881dbbd7-d149-4396-adf4-61e7efb607d0"
      },
      "execution_count": 44,
      "outputs": [
        {
          "output_type": "stream",
          "name": "stdout",
          "text": [
            "Model: \"sequential\"\n",
            "_________________________________________________________________\n",
            " Layer (type)                Output Shape              Param #   \n",
            "=================================================================\n",
            " embedding (Embedding)       (None, 3000, 100)         5000000   \n",
            "                                                                 \n",
            " lstm (LSTM)                 (None, 100)               80400     \n",
            "                                                                 \n",
            " dense (Dense)               (None, 5)                 505       \n",
            "                                                                 \n",
            "=================================================================\n",
            "Total params: 5,080,905\n",
            "Trainable params: 5,080,905\n",
            "Non-trainable params: 0\n",
            "_________________________________________________________________\n",
            "None\n"
          ]
        }
      ]
    },
    {
      "cell_type": "code",
      "source": [
        "history = model.fit(x_train,y_train, epochs=8, batch_size=64,validation_split=0.1,callbacks=[EarlyStopping(monitor='val_loss', patience=3, min_delta=0.0001)])"
      ],
      "metadata": {
        "colab": {
          "base_uri": "https://localhost:8080/",
          "height": 536
        },
        "id": "My3nM0XaeJbn",
        "outputId": "4e36e20b-e013-4b89-fc25-96087b5726c4"
      },
      "execution_count": 45,
      "outputs": [
        {
          "output_type": "stream",
          "name": "stdout",
          "text": [
            "Epoch 1/8\n",
            "22/22 [==============================] - 319s 14s/step - loss: 1.5930 - accuracy: 0.2477 - val_loss: 1.6065 - val_accuracy: 0.2372\n",
            "Epoch 2/8\n",
            "22/22 [==============================] - 305s 14s/step - loss: 1.3031 - accuracy: 0.4725 - val_loss: 1.1106 - val_accuracy: 0.4038\n",
            "Epoch 3/8\n",
            "22/22 [==============================] - 306s 14s/step - loss: 0.8144 - accuracy: 0.7281 - val_loss: 0.8046 - val_accuracy: 0.6795\n",
            "Epoch 4/8\n",
            "22/22 [==============================] - 302s 14s/step - loss: 0.3960 - accuracy: 0.9122 - val_loss: 0.4536 - val_accuracy: 0.8846\n",
            "Epoch 5/8\n",
            "22/22 [==============================] - 321s 15s/step - loss: 0.1566 - accuracy: 0.9736 - val_loss: 0.3626 - val_accuracy: 0.8974\n",
            "Epoch 6/8\n",
            "10/22 [============>.................] - ETA: 2:44 - loss: 0.0596 - accuracy: 0.9937"
          ]
        },
        {
          "output_type": "error",
          "ename": "KeyboardInterrupt",
          "evalue": "ignored",
          "traceback": [
            "\u001b[0;31m---------------------------------------------------------------------------\u001b[0m",
            "\u001b[0;31mKeyboardInterrupt\u001b[0m                         Traceback (most recent call last)",
            "\u001b[0;32m<ipython-input-45-7fdf36ae40ab>\u001b[0m in \u001b[0;36m<cell line: 1>\u001b[0;34m()\u001b[0m\n\u001b[0;32m----> 1\u001b[0;31m \u001b[0mhistory\u001b[0m \u001b[0;34m=\u001b[0m \u001b[0mmodel\u001b[0m\u001b[0;34m.\u001b[0m\u001b[0mfit\u001b[0m\u001b[0;34m(\u001b[0m\u001b[0mx_train\u001b[0m\u001b[0;34m,\u001b[0m\u001b[0my_train\u001b[0m\u001b[0;34m,\u001b[0m \u001b[0mepochs\u001b[0m\u001b[0;34m=\u001b[0m\u001b[0;36m8\u001b[0m\u001b[0;34m,\u001b[0m \u001b[0mbatch_size\u001b[0m\u001b[0;34m=\u001b[0m\u001b[0;36m64\u001b[0m\u001b[0;34m,\u001b[0m\u001b[0mvalidation_split\u001b[0m\u001b[0;34m=\u001b[0m\u001b[0;36m0.1\u001b[0m\u001b[0;34m,\u001b[0m\u001b[0mcallbacks\u001b[0m\u001b[0;34m=\u001b[0m\u001b[0;34m[\u001b[0m\u001b[0mEarlyStopping\u001b[0m\u001b[0;34m(\u001b[0m\u001b[0mmonitor\u001b[0m\u001b[0;34m=\u001b[0m\u001b[0;34m'val_loss'\u001b[0m\u001b[0;34m,\u001b[0m \u001b[0mpatience\u001b[0m\u001b[0;34m=\u001b[0m\u001b[0;36m3\u001b[0m\u001b[0;34m,\u001b[0m \u001b[0mmin_delta\u001b[0m\u001b[0;34m=\u001b[0m\u001b[0;36m0.0001\u001b[0m\u001b[0;34m)\u001b[0m\u001b[0;34m]\u001b[0m\u001b[0;34m)\u001b[0m\u001b[0;34m\u001b[0m\u001b[0;34m\u001b[0m\u001b[0m\n\u001b[0m",
            "\u001b[0;32m/usr/local/lib/python3.10/dist-packages/keras/utils/traceback_utils.py\u001b[0m in \u001b[0;36merror_handler\u001b[0;34m(*args, **kwargs)\u001b[0m\n\u001b[1;32m     63\u001b[0m         \u001b[0mfiltered_tb\u001b[0m \u001b[0;34m=\u001b[0m \u001b[0;32mNone\u001b[0m\u001b[0;34m\u001b[0m\u001b[0;34m\u001b[0m\u001b[0m\n\u001b[1;32m     64\u001b[0m         \u001b[0;32mtry\u001b[0m\u001b[0;34m:\u001b[0m\u001b[0;34m\u001b[0m\u001b[0;34m\u001b[0m\u001b[0m\n\u001b[0;32m---> 65\u001b[0;31m             \u001b[0;32mreturn\u001b[0m \u001b[0mfn\u001b[0m\u001b[0;34m(\u001b[0m\u001b[0;34m*\u001b[0m\u001b[0margs\u001b[0m\u001b[0;34m,\u001b[0m \u001b[0;34m**\u001b[0m\u001b[0mkwargs\u001b[0m\u001b[0;34m)\u001b[0m\u001b[0;34m\u001b[0m\u001b[0;34m\u001b[0m\u001b[0m\n\u001b[0m\u001b[1;32m     66\u001b[0m         \u001b[0;32mexcept\u001b[0m \u001b[0mException\u001b[0m \u001b[0;32mas\u001b[0m \u001b[0me\u001b[0m\u001b[0;34m:\u001b[0m\u001b[0;34m\u001b[0m\u001b[0;34m\u001b[0m\u001b[0m\n\u001b[1;32m     67\u001b[0m             \u001b[0mfiltered_tb\u001b[0m \u001b[0;34m=\u001b[0m \u001b[0m_process_traceback_frames\u001b[0m\u001b[0;34m(\u001b[0m\u001b[0me\u001b[0m\u001b[0;34m.\u001b[0m\u001b[0m__traceback__\u001b[0m\u001b[0;34m)\u001b[0m\u001b[0;34m\u001b[0m\u001b[0;34m\u001b[0m\u001b[0m\n",
            "\u001b[0;32m/usr/local/lib/python3.10/dist-packages/keras/engine/training.py\u001b[0m in \u001b[0;36mfit\u001b[0;34m(self, x, y, batch_size, epochs, verbose, callbacks, validation_split, validation_data, shuffle, class_weight, sample_weight, initial_epoch, steps_per_epoch, validation_steps, validation_batch_size, validation_freq, max_queue_size, workers, use_multiprocessing)\u001b[0m\n\u001b[1;32m   1683\u001b[0m                         ):\n\u001b[1;32m   1684\u001b[0m                             \u001b[0mcallbacks\u001b[0m\u001b[0;34m.\u001b[0m\u001b[0mon_train_batch_begin\u001b[0m\u001b[0;34m(\u001b[0m\u001b[0mstep\u001b[0m\u001b[0;34m)\u001b[0m\u001b[0;34m\u001b[0m\u001b[0;34m\u001b[0m\u001b[0m\n\u001b[0;32m-> 1685\u001b[0;31m                             \u001b[0mtmp_logs\u001b[0m \u001b[0;34m=\u001b[0m \u001b[0mself\u001b[0m\u001b[0;34m.\u001b[0m\u001b[0mtrain_function\u001b[0m\u001b[0;34m(\u001b[0m\u001b[0miterator\u001b[0m\u001b[0;34m)\u001b[0m\u001b[0;34m\u001b[0m\u001b[0;34m\u001b[0m\u001b[0m\n\u001b[0m\u001b[1;32m   1686\u001b[0m                             \u001b[0;32mif\u001b[0m \u001b[0mdata_handler\u001b[0m\u001b[0;34m.\u001b[0m\u001b[0mshould_sync\u001b[0m\u001b[0;34m:\u001b[0m\u001b[0;34m\u001b[0m\u001b[0;34m\u001b[0m\u001b[0m\n\u001b[1;32m   1687\u001b[0m                                 \u001b[0mcontext\u001b[0m\u001b[0;34m.\u001b[0m\u001b[0masync_wait\u001b[0m\u001b[0;34m(\u001b[0m\u001b[0;34m)\u001b[0m\u001b[0;34m\u001b[0m\u001b[0;34m\u001b[0m\u001b[0m\n",
            "\u001b[0;32m/usr/local/lib/python3.10/dist-packages/tensorflow/python/util/traceback_utils.py\u001b[0m in \u001b[0;36merror_handler\u001b[0;34m(*args, **kwargs)\u001b[0m\n\u001b[1;32m    148\u001b[0m     \u001b[0mfiltered_tb\u001b[0m \u001b[0;34m=\u001b[0m \u001b[0;32mNone\u001b[0m\u001b[0;34m\u001b[0m\u001b[0;34m\u001b[0m\u001b[0m\n\u001b[1;32m    149\u001b[0m     \u001b[0;32mtry\u001b[0m\u001b[0;34m:\u001b[0m\u001b[0;34m\u001b[0m\u001b[0;34m\u001b[0m\u001b[0m\n\u001b[0;32m--> 150\u001b[0;31m       \u001b[0;32mreturn\u001b[0m \u001b[0mfn\u001b[0m\u001b[0;34m(\u001b[0m\u001b[0;34m*\u001b[0m\u001b[0margs\u001b[0m\u001b[0;34m,\u001b[0m \u001b[0;34m**\u001b[0m\u001b[0mkwargs\u001b[0m\u001b[0;34m)\u001b[0m\u001b[0;34m\u001b[0m\u001b[0;34m\u001b[0m\u001b[0m\n\u001b[0m\u001b[1;32m    151\u001b[0m     \u001b[0;32mexcept\u001b[0m \u001b[0mException\u001b[0m \u001b[0;32mas\u001b[0m \u001b[0me\u001b[0m\u001b[0;34m:\u001b[0m\u001b[0;34m\u001b[0m\u001b[0;34m\u001b[0m\u001b[0m\n\u001b[1;32m    152\u001b[0m       \u001b[0mfiltered_tb\u001b[0m \u001b[0;34m=\u001b[0m \u001b[0m_process_traceback_frames\u001b[0m\u001b[0;34m(\u001b[0m\u001b[0me\u001b[0m\u001b[0;34m.\u001b[0m\u001b[0m__traceback__\u001b[0m\u001b[0;34m)\u001b[0m\u001b[0;34m\u001b[0m\u001b[0;34m\u001b[0m\u001b[0m\n",
            "\u001b[0;32m/usr/local/lib/python3.10/dist-packages/tensorflow/python/eager/polymorphic_function/polymorphic_function.py\u001b[0m in \u001b[0;36m__call__\u001b[0;34m(self, *args, **kwds)\u001b[0m\n\u001b[1;32m    892\u001b[0m \u001b[0;34m\u001b[0m\u001b[0m\n\u001b[1;32m    893\u001b[0m       \u001b[0;32mwith\u001b[0m \u001b[0mOptionalXlaContext\u001b[0m\u001b[0;34m(\u001b[0m\u001b[0mself\u001b[0m\u001b[0;34m.\u001b[0m\u001b[0m_jit_compile\u001b[0m\u001b[0;34m)\u001b[0m\u001b[0;34m:\u001b[0m\u001b[0;34m\u001b[0m\u001b[0;34m\u001b[0m\u001b[0m\n\u001b[0;32m--> 894\u001b[0;31m         \u001b[0mresult\u001b[0m \u001b[0;34m=\u001b[0m \u001b[0mself\u001b[0m\u001b[0;34m.\u001b[0m\u001b[0m_call\u001b[0m\u001b[0;34m(\u001b[0m\u001b[0;34m*\u001b[0m\u001b[0margs\u001b[0m\u001b[0;34m,\u001b[0m \u001b[0;34m**\u001b[0m\u001b[0mkwds\u001b[0m\u001b[0;34m)\u001b[0m\u001b[0;34m\u001b[0m\u001b[0;34m\u001b[0m\u001b[0m\n\u001b[0m\u001b[1;32m    895\u001b[0m \u001b[0;34m\u001b[0m\u001b[0m\n\u001b[1;32m    896\u001b[0m       \u001b[0mnew_tracing_count\u001b[0m \u001b[0;34m=\u001b[0m \u001b[0mself\u001b[0m\u001b[0;34m.\u001b[0m\u001b[0mexperimental_get_tracing_count\u001b[0m\u001b[0;34m(\u001b[0m\u001b[0;34m)\u001b[0m\u001b[0;34m\u001b[0m\u001b[0;34m\u001b[0m\u001b[0m\n",
            "\u001b[0;32m/usr/local/lib/python3.10/dist-packages/tensorflow/python/eager/polymorphic_function/polymorphic_function.py\u001b[0m in \u001b[0;36m_call\u001b[0;34m(self, *args, **kwds)\u001b[0m\n\u001b[1;32m    924\u001b[0m       \u001b[0;31m# In this case we have created variables on the first call, so we run the\u001b[0m\u001b[0;34m\u001b[0m\u001b[0;34m\u001b[0m\u001b[0m\n\u001b[1;32m    925\u001b[0m       \u001b[0;31m# defunned version which is guaranteed to never create variables.\u001b[0m\u001b[0;34m\u001b[0m\u001b[0;34m\u001b[0m\u001b[0m\n\u001b[0;32m--> 926\u001b[0;31m       \u001b[0;32mreturn\u001b[0m \u001b[0mself\u001b[0m\u001b[0;34m.\u001b[0m\u001b[0m_no_variable_creation_fn\u001b[0m\u001b[0;34m(\u001b[0m\u001b[0;34m*\u001b[0m\u001b[0margs\u001b[0m\u001b[0;34m,\u001b[0m \u001b[0;34m**\u001b[0m\u001b[0mkwds\u001b[0m\u001b[0;34m)\u001b[0m  \u001b[0;31m# pylint: disable=not-callable\u001b[0m\u001b[0;34m\u001b[0m\u001b[0;34m\u001b[0m\u001b[0m\n\u001b[0m\u001b[1;32m    927\u001b[0m     \u001b[0;32melif\u001b[0m \u001b[0mself\u001b[0m\u001b[0;34m.\u001b[0m\u001b[0m_variable_creation_fn\u001b[0m \u001b[0;32mis\u001b[0m \u001b[0;32mnot\u001b[0m \u001b[0;32mNone\u001b[0m\u001b[0;34m:\u001b[0m\u001b[0;34m\u001b[0m\u001b[0;34m\u001b[0m\u001b[0m\n\u001b[1;32m    928\u001b[0m       \u001b[0;31m# Release the lock early so that multiple threads can perform the call\u001b[0m\u001b[0;34m\u001b[0m\u001b[0;34m\u001b[0m\u001b[0m\n",
            "\u001b[0;32m/usr/local/lib/python3.10/dist-packages/tensorflow/python/eager/polymorphic_function/tracing_compiler.py\u001b[0m in \u001b[0;36m__call__\u001b[0;34m(self, *args, **kwargs)\u001b[0m\n\u001b[1;32m    141\u001b[0m       (concrete_function,\n\u001b[1;32m    142\u001b[0m        filtered_flat_args) = self._maybe_define_function(args, kwargs)\n\u001b[0;32m--> 143\u001b[0;31m     return concrete_function._call_flat(\n\u001b[0m\u001b[1;32m    144\u001b[0m         filtered_flat_args, captured_inputs=concrete_function.captured_inputs)  # pylint: disable=protected-access\n\u001b[1;32m    145\u001b[0m \u001b[0;34m\u001b[0m\u001b[0m\n",
            "\u001b[0;32m/usr/local/lib/python3.10/dist-packages/tensorflow/python/eager/polymorphic_function/monomorphic_function.py\u001b[0m in \u001b[0;36m_call_flat\u001b[0;34m(self, args, captured_inputs, cancellation_manager)\u001b[0m\n\u001b[1;32m   1755\u001b[0m         and executing_eagerly):\n\u001b[1;32m   1756\u001b[0m       \u001b[0;31m# No tape is watching; skip to running the function.\u001b[0m\u001b[0;34m\u001b[0m\u001b[0;34m\u001b[0m\u001b[0m\n\u001b[0;32m-> 1757\u001b[0;31m       return self._build_call_outputs(self._inference_function.call(\n\u001b[0m\u001b[1;32m   1758\u001b[0m           ctx, args, cancellation_manager=cancellation_manager))\n\u001b[1;32m   1759\u001b[0m     forward_backward = self._select_forward_and_backward_functions(\n",
            "\u001b[0;32m/usr/local/lib/python3.10/dist-packages/tensorflow/python/eager/polymorphic_function/monomorphic_function.py\u001b[0m in \u001b[0;36mcall\u001b[0;34m(self, ctx, args, cancellation_manager)\u001b[0m\n\u001b[1;32m    379\u001b[0m       \u001b[0;32mwith\u001b[0m \u001b[0m_InterpolateFunctionError\u001b[0m\u001b[0;34m(\u001b[0m\u001b[0mself\u001b[0m\u001b[0;34m)\u001b[0m\u001b[0;34m:\u001b[0m\u001b[0;34m\u001b[0m\u001b[0;34m\u001b[0m\u001b[0m\n\u001b[1;32m    380\u001b[0m         \u001b[0;32mif\u001b[0m \u001b[0mcancellation_manager\u001b[0m \u001b[0;32mis\u001b[0m \u001b[0;32mNone\u001b[0m\u001b[0;34m:\u001b[0m\u001b[0;34m\u001b[0m\u001b[0;34m\u001b[0m\u001b[0m\n\u001b[0;32m--> 381\u001b[0;31m           outputs = execute.execute(\n\u001b[0m\u001b[1;32m    382\u001b[0m               \u001b[0mstr\u001b[0m\u001b[0;34m(\u001b[0m\u001b[0mself\u001b[0m\u001b[0;34m.\u001b[0m\u001b[0msignature\u001b[0m\u001b[0;34m.\u001b[0m\u001b[0mname\u001b[0m\u001b[0;34m)\u001b[0m\u001b[0;34m,\u001b[0m\u001b[0;34m\u001b[0m\u001b[0;34m\u001b[0m\u001b[0m\n\u001b[1;32m    383\u001b[0m               \u001b[0mnum_outputs\u001b[0m\u001b[0;34m=\u001b[0m\u001b[0mself\u001b[0m\u001b[0;34m.\u001b[0m\u001b[0m_num_outputs\u001b[0m\u001b[0;34m,\u001b[0m\u001b[0;34m\u001b[0m\u001b[0;34m\u001b[0m\u001b[0m\n",
            "\u001b[0;32m/usr/local/lib/python3.10/dist-packages/tensorflow/python/eager/execute.py\u001b[0m in \u001b[0;36mquick_execute\u001b[0;34m(op_name, num_outputs, inputs, attrs, ctx, name)\u001b[0m\n\u001b[1;32m     50\u001b[0m   \u001b[0;32mtry\u001b[0m\u001b[0;34m:\u001b[0m\u001b[0;34m\u001b[0m\u001b[0;34m\u001b[0m\u001b[0m\n\u001b[1;32m     51\u001b[0m     \u001b[0mctx\u001b[0m\u001b[0;34m.\u001b[0m\u001b[0mensure_initialized\u001b[0m\u001b[0;34m(\u001b[0m\u001b[0;34m)\u001b[0m\u001b[0;34m\u001b[0m\u001b[0;34m\u001b[0m\u001b[0m\n\u001b[0;32m---> 52\u001b[0;31m     tensors = pywrap_tfe.TFE_Py_Execute(ctx._handle, device_name, op_name,\n\u001b[0m\u001b[1;32m     53\u001b[0m                                         inputs, attrs, num_outputs)\n\u001b[1;32m     54\u001b[0m   \u001b[0;32mexcept\u001b[0m \u001b[0mcore\u001b[0m\u001b[0;34m.\u001b[0m\u001b[0m_NotOkStatusException\u001b[0m \u001b[0;32mas\u001b[0m \u001b[0me\u001b[0m\u001b[0;34m:\u001b[0m\u001b[0;34m\u001b[0m\u001b[0;34m\u001b[0m\u001b[0m\n",
            "\u001b[0;31mKeyboardInterrupt\u001b[0m: "
          ]
        }
      ]
    },
    {
      "cell_type": "code",
      "source": [
        "accuracy = model.evaluate(x_test,y_test)\n",
        "print(accuracy[0],accuracy[1])"
      ],
      "metadata": {
        "colab": {
          "base_uri": "https://localhost:8080/"
        },
        "id": "SKHWdn2MeW64",
        "outputId": "c56fbddb-15f6-4ab9-e0fd-3a507cbdfad3"
      },
      "execution_count": 46,
      "outputs": [
        {
          "output_type": "stream",
          "name": "stdout",
          "text": [
            "21/21 [==============================] - 19s 914ms/step - loss: 0.1910 - accuracy: 0.9506\n",
            "0.19100426137447357 0.9505987763404846\n"
          ]
        }
      ]
    },
    {
      "cell_type": "code",
      "source": [
        "import matplotlib.pyplot as plt"
      ],
      "metadata": {
        "id": "s8hShNeGmO2k"
      },
      "execution_count": 47,
      "outputs": []
    },
    {
      "cell_type": "code",
      "source": [
        "plt.title('Accuracy')\n",
        "# plt.plot(history.history['accuracy'], label='train')\n",
        "# plt.plot(history.history['val_accuracy'], label='test')\n",
        "plt.legend()\n",
        "plt.show();"
      ],
      "metadata": {
        "id": "sFw-SsHEmMp9",
        "colab": {
          "base_uri": "https://localhost:8080/",
          "height": 670
        },
        "outputId": "7a475421-f7c7-4e3d-db5f-97bb8459bb3a"
      },
      "execution_count": 48,
      "outputs": [
        {
          "output_type": "error",
          "ename": "NameError",
          "evalue": "ignored",
          "traceback": [
            "\u001b[0;31m---------------------------------------------------------------------------\u001b[0m",
            "\u001b[0;31mNameError\u001b[0m                                 Traceback (most recent call last)",
            "\u001b[0;32m<ipython-input-48-a7eaf9b374ac>\u001b[0m in \u001b[0;36m<cell line: 2>\u001b[0;34m()\u001b[0m\n\u001b[1;32m      1\u001b[0m \u001b[0mplt\u001b[0m\u001b[0;34m.\u001b[0m\u001b[0mtitle\u001b[0m\u001b[0;34m(\u001b[0m\u001b[0;34m'Accuracy'\u001b[0m\u001b[0;34m)\u001b[0m\u001b[0;34m\u001b[0m\u001b[0;34m\u001b[0m\u001b[0m\n\u001b[0;32m----> 2\u001b[0;31m \u001b[0mplt\u001b[0m\u001b[0;34m.\u001b[0m\u001b[0mplot\u001b[0m\u001b[0;34m(\u001b[0m\u001b[0mhistory\u001b[0m\u001b[0;34m.\u001b[0m\u001b[0mhistory\u001b[0m\u001b[0;34m[\u001b[0m\u001b[0;34m'accuracy'\u001b[0m\u001b[0;34m]\u001b[0m\u001b[0;34m,\u001b[0m \u001b[0mlabel\u001b[0m\u001b[0;34m=\u001b[0m\u001b[0;34m'train'\u001b[0m\u001b[0;34m)\u001b[0m\u001b[0;34m\u001b[0m\u001b[0;34m\u001b[0m\u001b[0m\n\u001b[0m\u001b[1;32m      3\u001b[0m \u001b[0mplt\u001b[0m\u001b[0;34m.\u001b[0m\u001b[0mplot\u001b[0m\u001b[0;34m(\u001b[0m\u001b[0mhistory\u001b[0m\u001b[0;34m.\u001b[0m\u001b[0mhistory\u001b[0m\u001b[0;34m[\u001b[0m\u001b[0;34m'val_accuracy'\u001b[0m\u001b[0;34m]\u001b[0m\u001b[0;34m,\u001b[0m \u001b[0mlabel\u001b[0m\u001b[0;34m=\u001b[0m\u001b[0;34m'test'\u001b[0m\u001b[0;34m)\u001b[0m\u001b[0;34m\u001b[0m\u001b[0;34m\u001b[0m\u001b[0m\n\u001b[1;32m      4\u001b[0m \u001b[0mplt\u001b[0m\u001b[0;34m.\u001b[0m\u001b[0mlegend\u001b[0m\u001b[0;34m(\u001b[0m\u001b[0;34m)\u001b[0m\u001b[0;34m\u001b[0m\u001b[0;34m\u001b[0m\u001b[0m\n\u001b[1;32m      5\u001b[0m \u001b[0mplt\u001b[0m\u001b[0;34m.\u001b[0m\u001b[0mshow\u001b[0m\u001b[0;34m(\u001b[0m\u001b[0;34m)\u001b[0m\u001b[0;34m;\u001b[0m\u001b[0;34m\u001b[0m\u001b[0;34m\u001b[0m\u001b[0m\n",
            "\u001b[0;31mNameError\u001b[0m: name 'history' is not defined"
          ]
        },
        {
          "output_type": "display_data",
          "data": {
            "text/plain": [
              "<Figure size 640x480 with 1 Axes>"
            ],
            "image/png": "[encoded data removed]"
          },
          "metadata": {}
        }
      ]
    },
    {
      "cell_type": "markdown",
      "source": [
        "To have a custom test data, apply the operations done to the training data like stopwords removal, tokenization, padding and then using model.predict and getting the argmax of the features we can predict the class label"
      ],
      "metadata": {
        "id": "CvgvgHVJWMqe"
      }
    },
    {
      "cell_type": "markdown",
      "source": [
        "# Custom Input Prediction"
      ],
      "metadata": {
        "id": "RFIpxot2Ct2x"
      }
    },
    {
      "cell_type": "code",
      "source": [
        "def predict(text):\n",
        "  text = [text]\n",
        "  seq = tokenizer.texts_to_sequences(text)\n",
        "  padded = pad_sequences(seq, maxlen=3000)\n",
        "  pred = model.predict(padded)\n",
        "  labels = ['Business','Entertainment','Politics','Sports','Tech']\n",
        "  print(pred, labels[np.argmax(pred)])"
      ],
      "metadata": {
        "id": "Cfzz0VnjDAFP"
      },
      "execution_count": 49,
      "outputs": []
    },
    {
      "cell_type": "code",
      "source": [
        "text =\"Flipkart revealed the different items that Indians are looking for on the e-commerce site, as relaxing lockdown restrictions allow shopping to start again.\"\n",
        "predict(text)"
      ],
      "metadata": {
        "colab": {
          "base_uri": "https://localhost:8080/"
        },
        "id": "7475X-Q1CtLJ",
        "outputId": "0ece06c9-d064-4a49-ee9f-7046500ab855"
      },
      "execution_count": 50,
      "outputs": [
        {
          "output_type": "stream",
          "name": "stdout",
          "text": [
            "1/1 [==============================] - 2s 2s/step\n",
            "[[0.04152431 0.20472194 0.06659834 0.02452536 0.66263   ]] Tech\n"
          ]
        }
      ]
    },
    {
      "cell_type": "code",
      "source": [
        "import pickle\n",
        "pickle.dump(model,open(\"bcc_classification.pkl\",'wb'))"
      ],
      "metadata": {
        "id": "6whwxYUKNz8U"
      },
      "execution_count": 52,
      "outputs": []
    },
    {
      "cell_type": "code",
      "source": [],
      "metadata": {
        "id": "-uqIm90aOEhD"
      },
      "execution_count": null,
      "outputs": []
    }
  ]
}